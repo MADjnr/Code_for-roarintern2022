{
 "cells": [
  {
   "cell_type": "code",
   "execution_count": 2,
   "id": "c2dbccf2-5c20-4cf9-a79d-f922ad4eac5f",
   "metadata": {},
   "outputs": [
    {
     "name": "stdout",
     "output_type": "stream",
     "text": [
      "27\n",
      "729\n"
     ]
    }
   ],
   "source": [
    "## Exponents and powers\n",
    "\n",
    "from IPython.display import display, Math\n",
    "print(3**3)\n",
    "print(3** (2+4))"
   ]
  },
  {
   "cell_type": "code",
   "execution_count": 5,
   "id": "81878ba2-e92a-4b2e-b747-a54c6615896a",
   "metadata": {},
   "outputs": [
    {
     "data": {
      "text/plain": [
       "4.5"
      ]
     },
     "execution_count": 5,
     "metadata": {},
     "output_type": "execute_result"
    }
   ],
   "source": [
    "# computing square root\n",
    "\n",
    "4**(1/2)\n",
    "9**1/2\n",
    "9**(1/2)"
   ]
  },
  {
   "cell_type": "code",
   "execution_count": 13,
   "id": "e0273740-77e0-4388-b64a-59d9ac286fe2",
   "metadata": {},
   "outputs": [],
   "source": [
    "## Writing nice equations using latex\n",
    "\n",
    "from IPython.display import display, Math\n"
   ]
  },
  {
   "cell_type": "code",
   "execution_count": 16,
   "id": "48163abc-1299-4872-aa42-04d6b847719e",
   "metadata": {},
   "outputs": [
    {
     "data": {
      "text/latex": [
       "$\\displaystyle 3^2 = 3$"
      ],
      "text/plain": [
       "<IPython.core.display.Math object>"
      ]
     },
     "metadata": {},
     "output_type": "display_data"
    }
   ],
   "source": [
    "display(Math('3^2 = 3'))"
   ]
  },
  {
   "cell_type": "code",
   "execution_count": 25,
   "id": "2a478da3-02ec-4dd7-ae38-d6fe46286c49",
   "metadata": {},
   "outputs": [
    {
     "data": {
      "text/latex": [
       "$\\displaystyle 3^2\\times 3^4 = 3^{2+4}$"
      ],
      "text/plain": [
       "<IPython.core.display.Math object>"
      ]
     },
     "metadata": {},
     "output_type": "display_data"
    }
   ],
   "source": [
    "display(Math('3^2\\\\times 3^4 = 3^{2+4}'))"
   ]
  },
  {
   "cell_type": "code",
   "execution_count": 24,
   "id": "124ef54f-1dba-4cf7-b198-a64c245f8f6b",
   "metadata": {},
   "outputs": [
    {
     "data": {
      "text/latex": [
       "$\\displaystyle x^{3/4} \\times 4^y = 3933.09$"
      ],
      "text/plain": [
       "<IPython.core.display.Math object>"
      ]
     },
     "metadata": {},
     "output_type": "display_data"
    }
   ],
   "source": [
    "x = 5\n",
    "y = 5.1\n",
    "\n",
    "ans = x**(3/4) * 4**y\n",
    "display(Math(\"x^{3/4} \\\\times 4^y = %g\" %ans))"
   ]
  },
  {
   "cell_type": "code",
   "execution_count": 26,
   "id": "edc83aff-799f-48a8-b745-77c6a9ff70aa",
   "metadata": {},
   "outputs": [
    {
     "data": {
      "text/latex": [
       "$\\displaystyle \\frac{3^3}{x^y} = 0.00735558$"
      ],
      "text/plain": [
       "<IPython.core.display.Math object>"
      ]
     },
     "metadata": {},
     "output_type": "display_data"
    }
   ],
   "source": [
    "ans = (3**3) / (x**y)\n",
    "display(Math('\\\\frac{3^3}{x^y} = %g' %ans))"
   ]
  },
  {
   "cell_type": "code",
   "execution_count": 27,
   "id": "350b21b3-62c6-4e30-9483-535d65be0eb4",
   "metadata": {},
   "outputs": [
    {
     "data": {
      "text/latex": [
       "$\\displaystyle 10^{x-4} = 0.00735558$"
      ],
      "text/plain": [
       "<IPython.core.display.Math object>"
      ]
     },
     "metadata": {},
     "output_type": "display_data"
    }
   ],
   "source": [
    "solution = 10**(x-4)\n",
    "\n",
    "display(Math('10^{x-4} = %g' %ans))"
   ]
  },
  {
   "cell_type": "markdown",
   "id": "9c1f20c1-cf34-46b0-a298-a5e7b53297ec",
   "metadata": {},
   "source": [
    "FOR LOOPS"
   ]
  },
  {
   "cell_type": "code",
   "execution_count": null,
   "id": "06fd675c-f297-452a-be62-a6550e6ffd06",
   "metadata": {},
   "outputs": [],
   "source": [
    "## using for-loops to commute powers\n",
    "\n",
    "\n",
    "for i in [0,1,2,3]:\n",
    "    print(i**2)"
   ]
  },
  {
   "cell_type": "code",
   "execution_count": 29,
   "id": "c0f0f033-3cbb-462a-9c91-666bbaf14438",
   "metadata": {},
   "outputs": [
    {
     "data": {
      "text/plain": [
       "range(0, 3)"
      ]
     },
     "execution_count": 29,
     "metadata": {},
     "output_type": "execute_result"
    }
   ],
   "source": [
    "range(0,3)"
   ]
  },
  {
   "cell_type": "code",
   "execution_count": 30,
   "id": "469e9785-1062-462a-8837-9ef87963ee4e",
   "metadata": {},
   "outputs": [
    {
     "data": {
      "text/plain": [
       "[0, 1, 2]"
      ]
     },
     "execution_count": 30,
     "metadata": {},
     "output_type": "execute_result"
    }
   ],
   "source": [
    "#to convert range into a list\n",
    "list(range(0,3))  ## When you see green texting in jupiter, it means a reserved word."
   ]
  },
  {
   "cell_type": "code",
   "execution_count": 31,
   "id": "e8b7c0d7-07c5-433f-9938-0273e018748b",
   "metadata": {},
   "outputs": [
    {
     "name": "stdout",
     "output_type": "stream",
     "text": [
      "This is the 0th iterations\n",
      "This is the 1th iterations\n",
      "This is the 2th iterations\n"
     ]
    }
   ],
   "source": [
    "for intern in range(0,3):\n",
    "    print('This is the %gth iterations' %intern)  ## notice that the 'th' is not well suited for the code"
   ]
  },
  {
   "cell_type": "code",
   "execution_count": 33,
   "id": "606dea77-a5c7-4608-a0f7-9f4174d07e54",
   "metadata": {},
   "outputs": [
    {
     "name": "stdout",
     "output_type": "stream",
     "text": [
      "0\n",
      "1\n",
      "4\n",
      "9\n",
      "16\n"
     ]
    }
   ],
   "source": [
    "for t in range(0,5):\n",
    "    num = t**2\n",
    "    print(num)"
   ]
  },
  {
   "cell_type": "code",
   "execution_count": 36,
   "id": "e38dec54-8320-4bd6-bc9a-bd191566a430",
   "metadata": {},
   "outputs": [
    {
     "name": "stdout",
     "output_type": "stream",
     "text": [
      "2 to the power of 0 is 1\n",
      "2 to the power of 1 is 2\n",
      "2 to the power of 2 is 4\n",
      "2 to the power of 3 is 8\n",
      "2 to the power of 4 is 16\n",
      "2 to the power of 5 is 32\n",
      "2 to the power of 6 is 64\n",
      "2 to the power of 7 is 128\n",
      "2 to the power of 8 is 256\n",
      "2 to the power of 9 is 512\n"
     ]
    }
   ],
   "source": [
    "#Exercise\n",
    "\n",
    "\n",
    "for i in range(0,10):\n",
    "    print('2 to the power of %g is %g' %(i, 2**i))"
   ]
  },
  {
   "cell_type": "code",
   "execution_count": 3,
   "id": "72774b34-16db-4a32-8d0b-e7cece66739e",
   "metadata": {},
   "outputs": [
    {
     "name": "stdout",
     "output_type": "stream",
     "text": [
      "0 to the power of 2 is 0\n",
      "1 to the power of 2 is 1\n",
      "2 to the power of 2 is 4\n",
      "3 to the power of 2 is 9\n",
      "4 to the power of 2 is 16\n",
      "5 to the power of 2 is 25\n",
      "6 to the power of 2 is 36\n",
      "7 to the power of 2 is 49\n",
      "8 to the power of 2 is 64\n",
      "9 to the power of 2 is 81\n",
      "10 to the power of 2 is 100\n",
      "11 to the power of 2 is 121\n",
      "12 to the power of 2 is 144\n",
      "13 to the power of 2 is 169\n",
      "14 to the power of 2 is 196\n",
      "15 to the power of 2 is 225\n",
      "16 to the power of 2 is 256\n",
      "17 to the power of 2 is 289\n"
     ]
    }
   ],
   "source": [
    "for i in range(0,18):\n",
    "    print('%g to the power of %g is %g' %(i,2, i**2))"
   ]
  },
  {
   "cell_type": "markdown",
   "id": "1538262b-7fe2-471e-af3a-45d2d6dfde4c",
   "metadata": {},
   "source": [
    "ORDER OF OPERATIONS\n"
   ]
  },
  {
   "cell_type": "code",
   "execution_count": 37,
   "id": "5702b5cb-2994-4193-a423-a4c60e787929",
   "metadata": {},
   "outputs": [
    {
     "name": "stdout",
     "output_type": "stream",
     "text": [
      "9\n"
     ]
    }
   ],
   "source": [
    "# The order of operations consider which arithmetic should be\n",
    "print(4 + 3  * 2 - 1)  #spaces have no effect whatsoever\n"
   ]
  },
  {
   "cell_type": "code",
   "execution_count": 38,
   "id": "d15c81dc-fa59-4046-9b24-a222644f5512",
   "metadata": {},
   "outputs": [
    {
     "name": "stdout",
     "output_type": "stream",
     "text": [
      "9\n"
     ]
    }
   ],
   "source": [
    "print(4+3 * 2-1) #spacing helps you read your code and it helps everyone read your code\n"
   ]
  },
  {
   "cell_type": "code",
   "execution_count": 39,
   "id": "8d78c75a-3de2-45fc-a001-422c63d35708",
   "metadata": {},
   "outputs": [
    {
     "name": "stdout",
     "output_type": "stream",
     "text": [
      "13\n"
     ]
    }
   ],
   "source": [
    "print((4+3) * 2-1) #what happened here is that the code gets grouped together as 7 times 2"
   ]
  },
  {
   "cell_type": "code",
   "execution_count": 40,
   "id": "ba4efb2f-6589-4ae0-a32d-c4da1a239a67",
   "metadata": {},
   "outputs": [
    {
     "name": "stdout",
     "output_type": "stream",
     "text": [
      "7\n"
     ]
    }
   ],
   "source": [
    "print((4+3) * (2-1)) #And then the grouping returns the answer fro"
   ]
  },
  {
   "cell_type": "code",
   "execution_count": 46,
   "id": "9035f9a2-be23-4e58-b969-02cda9b267c7",
   "metadata": {},
   "outputs": [
    {
     "data": {
      "text/plain": [
       "2.0"
      ]
     },
     "execution_count": 46,
     "metadata": {},
     "output_type": "execute_result"
    }
   ],
   "source": [
    "(4*5) / (7 + 3)"
   ]
  },
  {
   "cell_type": "code",
   "execution_count": 47,
   "id": "128ed294-081d-4f52-a7ab-c1df19f63165",
   "metadata": {},
   "outputs": [
    {
     "data": {
      "text/plain": [
       "0.0"
      ]
     },
     "execution_count": 47,
     "metadata": {},
     "output_type": "execute_result"
    }
   ],
   "source": [
    "9 / (3+6) - 1"
   ]
  },
  {
   "cell_type": "code",
   "execution_count": null,
   "id": "9f4fcbce-b753-4d66-a03d-6e255523ef5d",
   "metadata": {},
   "outputs": [],
   "source": []
  },
  {
   "cell_type": "markdown",
   "id": "6e65b9b4-b5a1-40a0-b1bb-16d5560ec4b0",
   "metadata": {},
   "source": [
    "testing inequality and Boolean datastructure"
   ]
  },
  {
   "cell_type": "code",
   "execution_count": null,
   "id": "c2aa8776-5421-4db2-8fdd-aefaa973e192",
   "metadata": {},
   "outputs": [],
   "source": []
  },
  {
   "cell_type": "code",
   "execution_count": null,
   "id": "b4377b3d-d6e2-4d44-9d03-4c78d1ac81bf",
   "metadata": {},
   "outputs": [],
   "source": []
  }
 ],
 "metadata": {
  "kernelspec": {
   "display_name": "Python 3",
   "language": "python",
   "name": "python3"
  },
  "language_info": {
   "codemirror_mode": {
    "name": "ipython",
    "version": 3
   },
   "file_extension": ".py",
   "mimetype": "text/x-python",
   "name": "python",
   "nbconvert_exporter": "python",
   "pygments_lexer": "ipython3",
   "version": "3.8.10"
  }
 },
 "nbformat": 4,
 "nbformat_minor": 5
}
