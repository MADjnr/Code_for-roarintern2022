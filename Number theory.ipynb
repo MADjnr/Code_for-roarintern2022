{
 "cells": [
  {
   "cell_type": "markdown",
   "id": "3caf04c7-c160-4306-993a-dbcaa76b17d9",
   "metadata": {},
   "source": [
    "###\n",
    "Perfect Number: \n",
    "A positive integer that equals the sum of its positive diviors (excluding the number)\n",
    "\n",
    "\n",
    "\n",
    "###\n",
    "Goal in Python:\n",
    "Write an algorithm to test if a number is perfect. Find all of perfect numbers between 2 and 1000"
   ]
  },
  {
   "cell_type": "code",
   "execution_count": 13,
   "id": "acf12e8b-f8ae-4d9a-9815-822fdf499edf",
   "metadata": {},
   "outputs": [],
   "source": [
    "#number = 6  ## 6 is a perfect number\n",
    "\n",
    "def test4perfect(number):\n",
    "    divisors = []\n",
    "    for d in range(1,number):\n",
    "        if number%d ==0:\n",
    "            divisors.append(d)\n",
    "        \n",
    "    return sum(divisors) == number "
   ]
  },
  {
   "cell_type": "code",
   "execution_count": 3,
   "id": "b8353bb6-76aa-4635-a063-1eee8cd055a2",
   "metadata": {},
   "outputs": [
    {
     "data": {
      "text/plain": [
       "True"
      ]
     },
     "execution_count": 3,
     "metadata": {},
     "output_type": "execute_result"
    }
   ],
   "source": [
    "sum(divisors) == number"
   ]
  },
  {
   "cell_type": "code",
   "execution_count": 14,
   "id": "284d4676-8e17-4008-b05a-644992a9faf1",
   "metadata": {},
   "outputs": [
    {
     "data": {
      "text/plain": [
       "True"
      ]
     },
     "execution_count": 14,
     "metadata": {},
     "output_type": "execute_result"
    }
   ],
   "source": [
    "test4perfect(28)"
   ]
  },
  {
   "cell_type": "code",
   "execution_count": 16,
   "id": "bf78f3d5-d00d-4137-b2aa-31d6d6bee392",
   "metadata": {},
   "outputs": [
    {
     "data": {
      "text/plain": [
       "[6, 28, 496, 8128]"
      ]
     },
     "execution_count": 16,
     "metadata": {},
     "output_type": "execute_result"
    }
   ],
   "source": [
    "## Find all the perfect numbers between 2 and 10,000\n",
    "perfectnums = []\n",
    "\n",
    "for number in range(2,10001):\n",
    "    if test4perfect(number):\n",
    "        perfectnums.append(number)\n",
    "        \n",
    "perfectnums"
   ]
  },
  {
   "cell_type": "markdown",
   "id": "cfb4a70e-cae9-432b-ad64-a9ce1878fc8b",
   "metadata": {},
   "source": [
    "## Implement the function in one line of code using list comprehension."
   ]
  },
  {
   "cell_type": "code",
   "execution_count": 20,
   "id": "404ca152-5857-47ef-a3cd-f077d45ab199",
   "metadata": {},
   "outputs": [
    {
     "name": "stdout",
     "output_type": "stream",
     "text": [
      "[0, 2, 4, 6, 8, 10, 12, 14, 16, 18]\n",
      " \n",
      "[0, 1, 4, 9, 16, 25, 36, 49, 64, 81]\n"
     ]
    },
    {
     "data": {
      "text/plain": [
       "[0, 2, 4, 6, 8, 10, 12, 14, 16, 18]"
      ]
     },
     "execution_count": 20,
     "metadata": {},
     "output_type": "execute_result"
    }
   ],
   "source": [
    "## Review of list comprehension\n",
    "\n",
    "lst = []\n",
    "for i in range(10):\n",
    "    lst.append(i*2)\n",
    "    \n",
    "### syntax for list comprehension\n",
    "\n",
    "'''\n",
    "[output for -loop-specification ]\n",
    "'''\n",
    "\n",
    "lst2 = [i**2 for i in range(10)]\n",
    "\n",
    "print(lst)\n",
    "\n",
    "print(' ')\n",
    "\n",
    "print(lst2)\n"
   ]
  },
  {
   "cell_type": "markdown",
   "id": "4030e035-3ffd-4886-ad8a-6d72fd89da7d",
   "metadata": {},
   "source": [
    "### Therefore to implement the code"
   ]
  },
  {
   "cell_type": "code",
   "execution_count": null,
   "id": "c488fe0e-e3a0-42e2-890e-8651355c08fd",
   "metadata": {},
   "outputs": [],
   "source": []
  },
  {
   "cell_type": "code",
   "execution_count": null,
   "id": "34463ad4-d5d4-4a26-ba89-d6019717985b",
   "metadata": {},
   "outputs": [],
   "source": []
  },
  {
   "cell_type": "code",
   "execution_count": null,
   "id": "00c1ef47-f554-4893-bb10-13e7dc782da7",
   "metadata": {},
   "outputs": [],
   "source": []
  },
  {
   "cell_type": "code",
   "execution_count": null,
   "id": "9de91677-ead0-40eb-94b2-e0acb375dbd8",
   "metadata": {},
   "outputs": [],
   "source": []
  }
 ],
 "metadata": {
  "kernelspec": {
   "display_name": "Python 3",
   "language": "python",
   "name": "python3"
  },
  "language_info": {
   "codemirror_mode": {
    "name": "ipython",
    "version": 3
   },
   "file_extension": ".py",
   "mimetype": "text/x-python",
   "name": "python",
   "nbconvert_exporter": "python",
   "pygments_lexer": "ipython3",
   "version": "3.8.10"
  }
 },
 "nbformat": 4,
 "nbformat_minor": 5
}
