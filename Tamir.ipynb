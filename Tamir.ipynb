{
 "cells": [
  {
   "cell_type": "code",
   "execution_count": 8,
   "id": "bea65e1b-b55a-4471-8c6f-6379265d79ca",
   "metadata": {},
   "outputs": [
    {
     "data": {
      "text/plain": [
       "array([[ 7.66554826e-01,  3.71070420e-01,  1.85317817e-01,\n",
       "        -5.73630200e-01],\n",
       "       [-1.49231073e+00, -1.85584856e+00, -4.21963456e-01,\n",
       "        -1.02354966e+00],\n",
       "       [-8.64968547e-04, -4.44702746e-01, -5.71113820e-01,\n",
       "        -4.78592665e-01],\n",
       "       [-7.68800582e-02,  2.59229698e-01,  1.40422782e-01,\n",
       "         4.59137488e-02],\n",
       "       [-4.85130994e-01,  5.94355342e-02,  5.52520219e-01,\n",
       "         2.12341236e-01]])"
      ]
     },
     "execution_count": 8,
     "metadata": {},
     "output_type": "execute_result"
    }
   ],
   "source": [
    "import numpy as np\n",
    "\n",
    "array = np.random.randn(5,4)\n",
    "array"
   ]
  },
  {
   "cell_type": "code",
   "execution_count": 9,
   "id": "52722d14-2b64-4e14-9852-ff18be5b9876",
   "metadata": {},
   "outputs": [
    {
     "name": "stdout",
     "output_type": "stream",
     "text": [
      "-0.2415890785088751\n"
     ]
    }
   ],
   "source": [
    "print(array.mean())"
   ]
  },
  {
   "cell_type": "code",
   "execution_count": 11,
   "id": "4385d460-ba1d-4dfa-966a-8cbe5df9170f",
   "metadata": {},
   "outputs": [
    {
     "data": {
      "text/plain": [
       "-4.831781570177502"
      ]
     },
     "execution_count": 11,
     "metadata": {},
     "output_type": "execute_result"
    }
   ],
   "source": [
    "array.sum()"
   ]
  },
  {
   "cell_type": "code",
   "execution_count": 14,
   "id": "e29b4828-5967-4531-bcf4-ac9808aa8b9f",
   "metadata": {},
   "outputs": [
    {
     "data": {
      "text/plain": [
       "array([ 0.18732822, -1.1984181 , -0.37381855,  0.09217154,  0.0847915 ])"
      ]
     },
     "execution_count": 14,
     "metadata": {},
     "output_type": "execute_result"
    }
   ],
   "source": [
    "array.mean(axis=1)"
   ]
  },
  {
   "cell_type": "code",
   "execution_count": 15,
   "id": "6b4c3f5b-d5de-43ec-96a4-41f20c8c0c5f",
   "metadata": {},
   "outputs": [
    {
     "name": "stdout",
     "output_type": "stream",
     "text": [
      "[0 1 2 3 4 5 6 7]\n"
     ]
    },
    {
     "data": {
      "text/plain": [
       "array([ 0,  1,  3,  6, 10, 15, 21, 28], dtype=int32)"
      ]
     },
     "execution_count": 15,
     "metadata": {},
     "output_type": "execute_result"
    }
   ],
   "source": [
    "array2 = np.array([0,1,2,3,4,5,6,7])\n",
    "\n",
    "print(array2)\n",
    "array2.cumsum()"
   ]
  },
  {
   "cell_type": "code",
   "execution_count": 21,
   "id": "d480ee5d-5a7d-476f-8ebb-1aaa5150cdc6",
   "metadata": {},
   "outputs": [
    {
     "data": {
      "text/plain": [
       "array([-0.04242   , -0.50992087,  1.60820101, -1.20272108, -0.06638145,\n",
       "       -0.04934821])"
      ]
     },
     "execution_count": 21,
     "metadata": {},
     "output_type": "execute_result"
    }
   ],
   "source": [
    "array3 = np.random.randn(6)\n",
    "array3"
   ]
  },
  {
   "cell_type": "code",
   "execution_count": 18,
   "id": "d90890f3-4045-4936-8896-c6b7d5d649f6",
   "metadata": {},
   "outputs": [
    {
     "name": "stdout",
     "output_type": "stream",
     "text": [
      "None\n"
     ]
    }
   ],
   "source": [
    "array3.sort()\n"
   ]
  },
  {
   "cell_type": "code",
   "execution_count": null,
   "id": "edc218f2-61f3-465f-9902-3457d9891cdc",
   "metadata": {},
   "outputs": [],
   "source": []
  }
 ],
 "metadata": {
  "kernelspec": {
   "display_name": "Python 3",
   "language": "python",
   "name": "python3"
  },
  "language_info": {
   "codemirror_mode": {
    "name": "ipython",
    "version": 3
   },
   "file_extension": ".py",
   "mimetype": "text/x-python",
   "name": "python",
   "nbconvert_exporter": "python",
   "pygments_lexer": "ipython3",
   "version": "3.8.10"
  }
 },
 "nbformat": 4,
 "nbformat_minor": 5
}
