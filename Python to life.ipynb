{
 "cells": [
  {
   "cell_type": "code",
   "execution_count": 1,
   "id": "4deac764-81ba-422f-8675-c5f4f4188ed9",
   "metadata": {},
   "outputs": [
    {
     "data": {
      "text/plain": [
       "4"
      ]
     },
     "execution_count": 1,
     "metadata": {},
     "output_type": "execute_result"
    }
   ],
   "source": [
    "#naming conventions in Python\n",
    "a = 4\n",
    "b = 5"
   ]
  },
  {
   "cell_type": "code",
   "execution_count": null,
   "id": "f780b78e-629d-45ad-a5fd-c9d819b92ddd",
   "metadata": {},
   "outputs": [],
   "source": []
  },
  {
   "cell_type": "code",
   "execution_count": null,
   "id": "97a6df2e-6627-4299-86de-01e0a2c75991",
   "metadata": {},
   "outputs": [],
   "source": [
    "'''\n",
    "Comments are ways we tell ourselves and others what the code does\n",
    "\n",
    "'''"
   ]
  },
  {
   "cell_type": "code",
   "execution_count": 2,
   "id": "90578de2-8776-4458-aed0-357309419807",
   "metadata": {},
   "outputs": [
    {
     "data": {
      "text/plain": [
       "float"
      ]
     },
     "execution_count": 2,
     "metadata": {},
     "output_type": "execute_result"
    }
   ],
   "source": [
    "c = 7\n",
    "d = 7.0\n",
    "\n",
    "type(d)"
   ]
  },
  {
   "cell_type": "code",
   "execution_count": 3,
   "id": "fdaf79ee-c850-45a8-89bc-55b40d1dc4ca",
   "metadata": {},
   "outputs": [
    {
     "data": {
      "text/plain": [
       "str"
      ]
     },
     "execution_count": 3,
     "metadata": {},
     "output_type": "execute_result"
    }
   ],
   "source": [
    "e = 'hello'\n",
    "f = \"My name is mike\"\n",
    "\n",
    "type(f)"
   ]
  },
  {
   "cell_type": "code",
   "execution_count": null,
   "id": "dcfd2278-a7e5-408b-a2fc-93d36438df7b",
   "metadata": {},
   "outputs": [],
   "source": [
    "#Rules of naming\n",
    "\n",
    "'''\n",
    "Single variable names are not good coding style\n",
    "you cannot start a variable with a number\n",
    "'''\n",
    "filterorder = 18\n",
    "user_name =   'mike'\n",
    "param4model1A = 43.58745"
   ]
  },
  {
   "cell_type": "code",
   "execution_count": 4,
   "id": "73cad76f-3e15-4a3b-8b44-7e6d918b0f5f",
   "metadata": {},
   "outputs": [
    {
     "name": "stdout",
     "output_type": "stream",
     "text": [
      "Variable   Type     Data/Info\n",
      "-----------------------------\n",
      "a          int      4\n",
      "c          int      7\n",
      "d          float    7.0\n",
      "e          str      hello\n",
      "f          str      My name is mike\n"
     ]
    }
   ],
   "source": [
    "#to find all the variable names created\n",
    "\n",
    "%whos"
   ]
  },
  {
   "cell_type": "code",
   "execution_count": null,
   "id": "48ab0035-7666-47a6-9dd9-28af126cc031",
   "metadata": {},
   "outputs": [],
   "source": [
    "### Multiple assignment\n",
    "varA = 3\n",
    "varB = 'test'\n",
    "\n",
    "varA,varB = 3,'test'\n"
   ]
  },
  {
   "cell_type": "code",
   "execution_count": 6,
   "id": "1be5f564-80cb-4d42-bc33-3406d75d7cb4",
   "metadata": {},
   "outputs": [
    {
     "data": {
      "text/plain": [
       "float"
      ]
     },
     "execution_count": 6,
     "metadata": {},
     "output_type": "execute_result"
    }
   ],
   "source": [
    "#can we redifine the variable?\n",
    "varA = 8.00\n",
    "type(varA)"
   ]
  },
  {
   "cell_type": "raw",
   "id": "a33bcc50-fe31-43e0-b1cf-c2d746a0337f",
   "metadata": {},
   "source": [
    "This is where the code for math start"
   ]
  },
  {
   "cell_type": "code",
   "execution_count": 9,
   "id": "485ae27a-e336-4574-91e9-84e9053d696b",
   "metadata": {},
   "outputs": [
    {
     "data": {
      "text/plain": [
       "21.8"
      ]
     },
     "execution_count": 9,
     "metadata": {},
     "output_type": "execute_result"
    }
   ],
   "source": [
    "### Math and Printing\n",
    "\n",
    "x = 7\n",
    "y = 4.3\n",
    "z = 0\n",
    "\n",
    "c = y + 3.5*x - 7\n",
    "c"
   ]
  },
  {
   "cell_type": "code",
   "execution_count": 10,
   "id": "bd7b8564-3d82-48ee-8a1c-7717c20c4633",
   "metadata": {},
   "outputs": [
    {
     "data": {
      "text/plain": [
       "7"
      ]
     },
     "execution_count": 10,
     "metadata": {},
     "output_type": "execute_result"
    }
   ],
   "source": [
    "4/3 #here the slash is for dividion\n",
    "4 \\ #here the slash is for continuing on another line\n",
    "  + 3"
   ]
  },
  {
   "cell_type": "code",
   "execution_count": 11,
   "id": "92e26b76-8e65-4e4a-b2f2-3df7ae4b9f0d",
   "metadata": {},
   "outputs": [
    {
     "data": {
      "text/plain": [
       "4.5"
      ]
     },
     "execution_count": 11,
     "metadata": {},
     "output_type": "execute_result"
    }
   ],
   "source": [
    "3**2\n",
    "9**1/2 ## the intended is 9**(1/2)"
   ]
  },
  {
   "cell_type": "code",
   "execution_count": 14,
   "id": "08f23010-13db-4ef6-9b09-4829d8f93036",
   "metadata": {},
   "outputs": [
    {
     "data": {
      "text/plain": [
       "'mike cohenmike cohenmike cohen'"
      ]
     },
     "execution_count": 14,
     "metadata": {},
     "output_type": "execute_result"
    }
   ],
   "source": [
    "firstName = 'mike'\n",
    "lastName =  'cohen'\n",
    "\n",
    "#overloading\n",
    "fullName = firstName + \" \" + lastName\n",
    "fullName \n",
    "fullName*3"
   ]
  },
  {
   "cell_type": "code",
   "execution_count": 16,
   "id": "cff4e4c2-19f3-4873-add7-9c64b5d55f8d",
   "metadata": {},
   "outputs": [
    {
     "name": "stdout",
     "output_type": "stream",
     "text": [
      "7 + 4.3 = 11.3\n"
     ]
    }
   ],
   "source": [
    "print(str(x) + ' + ' + str(y) + ' = ' + str(x+y))"
   ]
  },
  {
   "cell_type": "code",
   "execution_count": 17,
   "id": "d9d19bd3-9fd0-4850-9c73-6c0295227db6",
   "metadata": {},
   "outputs": [
    {
     "name": "stdin",
     "output_type": "stream",
     "text": [
      "give me a number:  5\n"
     ]
    }
   ],
   "source": [
    "ans = input('give me a number: ')\n"
   ]
  },
  {
   "cell_type": "code",
   "execution_count": 18,
   "id": "9a9f24f8-5181-4bcb-b70e-47553af01484",
   "metadata": {},
   "outputs": [
    {
     "ename": "TypeError",
     "evalue": "can only concatenate str (not \"int\") to str",
     "output_type": "error",
     "traceback": [
      "\u001b[1;31m---------------------------------------------------------------------------\u001b[0m",
      "\u001b[1;31mTypeError\u001b[0m                                 Traceback (most recent call last)",
      "\u001b[1;32m<ipython-input-18-59c50b3e493e>\u001b[0m in \u001b[0;36m<module>\u001b[1;34m\u001b[0m\n\u001b[1;32m----> 1\u001b[1;33m \u001b[0mans\u001b[0m \u001b[1;33m+\u001b[0m \u001b[1;36m5\u001b[0m\u001b[1;33m\u001b[0m\u001b[1;33m\u001b[0m\u001b[0m\n\u001b[0m",
      "\u001b[1;31mTypeError\u001b[0m: can only concatenate str (not \"int\") to str"
     ]
    }
   ],
   "source": [
    "ans + 5"
   ]
  },
  {
   "cell_type": "code",
   "execution_count": 19,
   "id": "22a55809-2a0e-4595-a9f8-b31ee1883964",
   "metadata": {},
   "outputs": [
    {
     "name": "stdin",
     "output_type": "stream",
     "text": [
      "Give me a number:  68\n"
     ]
    }
   ],
   "source": [
    "ans = float(input('Give me a number: '))"
   ]
  },
  {
   "cell_type": "code",
   "execution_count": 20,
   "id": "dac82138-985c-44fe-b66b-34e042d91c0c",
   "metadata": {},
   "outputs": [
    {
     "data": {
      "text/plain": [
       "136.0"
      ]
     },
     "execution_count": 20,
     "metadata": {},
     "output_type": "execute_result"
    }
   ],
   "source": [
    "ans*2"
   ]
  },
  {
   "cell_type": "code",
   "execution_count": null,
   "id": "68895c27-12f9-4b0e-8a4a-dd10e5f7aa5d",
   "metadata": {},
   "outputs": [],
   "source": [
    "#exercise \n",
    "#test pythagorean theorem\n",
    "\n",
    "\n",
    "#get two inputs from the user\n",
    "# side 'a'\n",
    "#side 'b'\n",
    "\n",
    "# - compute and print out the length of side c!\n",
    "\n"
   ]
  },
  {
   "cell_type": "code",
   "execution_count": 24,
   "id": "3d5f4e0a-cdbb-433a-9b52-3e1364657f54",
   "metadata": {},
   "outputs": [
    {
     "name": "stdin",
     "output_type": "stream",
     "text": [
      "Length of side a:  3\n",
      "Length of side b  4\n"
     ]
    },
    {
     "name": "stdout",
     "output_type": "stream",
     "text": [
      "The length of side C is 5.0\n"
     ]
    }
   ],
   "source": [
    "sideA = float(input('Length of side a: '))\n",
    "sideB = float(input ('Length of side b '))\n",
    "  \n",
    "sideC = (sideA**2 + sideB**2)**(1/2)\n",
    "\n",
    "print('The length of side C is ' + str(sideC))"
   ]
  },
  {
   "cell_type": "markdown",
   "id": "c598262f-a7be-4ca8-8624-4bc3ddb23e70",
   "metadata": {},
   "source": [
    "List(1 and 2)"
   ]
  },
  {
   "cell_type": "code",
   "execution_count": 25,
   "id": "47d4d599-54e8-4799-ba8f-bfdc1d843622",
   "metadata": {},
   "outputs": [
    {
     "data": {
      "text/plain": [
       "[8, 5.01, 'test', 50.1]"
      ]
     },
     "execution_count": 25,
     "metadata": {},
     "output_type": "execute_result"
    }
   ],
   "source": [
    "#list \n",
    "alist = [ 4,5,2,0,3, 8 ] #there are six elements in this list\n",
    "strlist = [ 'hi', 'my', 'is', 'mike']\n",
    "\n",
    "mixlist = [ 8, 5.01, 'test', 50.1] #Antything can go inside a list provided that it is separated by comas\n",
    "mixlist\n",
    "\n",
    "listlist = [ 1,2,3, 'hi', 'bye', [.5, 1/4, 'i', 5,6,3]]"
   ]
  },
  {
   "cell_type": "code",
   "execution_count": 28,
   "id": "8209502a-2e33-4ba6-b94a-632c901f457f",
   "metadata": {},
   "outputs": [],
   "source": [
    "listlist = [\n",
    "            1, #the pretty good stuff with this stuff is that we can write comments\n",
    "            2,\n",
    "            3, \n",
    "            'hi', \n",
    "            'bye', \n",
    "            [.5, 1/4, 'i',],\n",
    "            5,\n",
    "            6,\n",
    "            3]"
   ]
  },
  {
   "cell_type": "code",
   "execution_count": 31,
   "id": "8e89c76e-82fd-4735-b3e6-bdc2a2bce714",
   "metadata": {},
   "outputs": [
    {
     "data": {
      "text/plain": [
       "True"
      ]
     },
     "execution_count": 31,
     "metadata": {},
     "output_type": "execute_result"
    }
   ],
   "source": [
    "## working with list\n",
    "\n",
    "#i want to know if 4 is in the list\n",
    "5 in listlist"
   ]
  },
  {
   "cell_type": "code",
   "execution_count": 32,
   "id": "a8a7e5f1-143a-475e-a7d4-2379943da336",
   "metadata": {},
   "outputs": [
    {
     "data": {
      "text/plain": [
       "[4, 5, 2, 0, 3, 1, 2, 3, 'hi', 'bye', [0.5, 0.25, 'i'], 5, 6, 3]"
      ]
     },
     "execution_count": 32,
     "metadata": {},
     "output_type": "execute_result"
    }
   ],
   "source": [
    "# concatenating two lists\n",
    "\n",
    "alist + listlist"
   ]
  },
  {
   "cell_type": "code",
   "execution_count": 33,
   "id": "08060864-1282-44ff-8cb7-344a31391078",
   "metadata": {},
   "outputs": [
    {
     "data": {
      "text/plain": [
       "[4, 5, 2, 0, 3, 4, 5, 2, 0, 3, 4, 5, 2, 0, 3]"
      ]
     },
     "execution_count": 33,
     "metadata": {},
     "output_type": "execute_result"
    }
   ],
   "source": [
    "alist*3"
   ]
  },
  {
   "cell_type": "code",
   "execution_count": 34,
   "id": "8e0f7976-2d02-4068-a521-0ebc5ae557e8",
   "metadata": {},
   "outputs": [
    {
     "name": "stdout",
     "output_type": "stream",
     "text": [
      "[4, 5, 2, 0, 3, -100]\n"
     ]
    }
   ],
   "source": [
    "#method - a method is a function that acts on a particular type of variable\n",
    "alist.append(-100)\n",
    "print(alist)"
   ]
  },
  {
   "cell_type": "code",
   "execution_count": 36,
   "id": "144f3a7e-22d9-492c-9f16-2c7dc66b5b92",
   "metadata": {},
   "outputs": [
    {
     "data": {
      "text/plain": [
       "[-100, 0, 2, 3, 4, 5]"
      ]
     },
     "execution_count": 36,
     "metadata": {},
     "output_type": "execute_result"
    }
   ],
   "source": [
    "alist.sort()\n",
    "alist"
   ]
  },
  {
   "cell_type": "code",
   "execution_count": 37,
   "id": "74d960ca-9b2d-4767-b7aa-e6b701a949ef",
   "metadata": {},
   "outputs": [
    {
     "data": {
      "text/plain": [
       "1"
      ]
     },
     "execution_count": 37,
     "metadata": {},
     "output_type": "execute_result"
    }
   ],
   "source": [
    "# execise\n",
    "#use a list method to find the number of '-100' in alist\n",
    "\n",
    "alist.count(-100)"
   ]
  },
  {
   "cell_type": "markdown",
   "id": "9e307ef1-180f-4ff4-a6b4-ae512dd13858",
   "metadata": {},
   "source": [
    "A list 2 of 2\n"
   ]
  },
  {
   "cell_type": "code",
   "execution_count": 39,
   "id": "ce9b4433-63e6-440e-86af-d26a4e27eba0",
   "metadata": {},
   "outputs": [
    {
     "name": "stdout",
     "output_type": "stream",
     "text": [
      "[1, 2, 3, 4, 5]\n"
     ]
    },
    {
     "data": {
      "text/plain": [
       "[1, 2, 3, 4, 5, 7]"
      ]
     },
     "execution_count": 39,
     "metadata": {},
     "output_type": "execute_result"
    }
   ],
   "source": [
    "lst = [1,2,3,4,5]\n",
    "\n",
    "print(lst)\n",
    "lst.append(7) #this is a method to add an element in the list\n",
    "lst"
   ]
  },
  {
   "cell_type": "code",
   "execution_count": 40,
   "id": "fa2f801b-e6ee-48a5-b6b1-a6850aeeebb4",
   "metadata": {},
   "outputs": [
    {
     "data": {
      "text/plain": [
       "[1, 2, 8, 3, 4, 5, 7]"
      ]
     },
     "execution_count": 40,
     "metadata": {},
     "output_type": "execute_result"
    }
   ],
   "source": [
    "lst.insert(2,8)  #2 corresonds to the position and 8 corresponds ot the element that occupies the positin\n",
    "lst"
   ]
  },
  {
   "cell_type": "code",
   "execution_count": 41,
   "id": "0c376e21-6e8b-4831-871b-05a3d5233950",
   "metadata": {},
   "outputs": [
    {
     "data": {
      "text/plain": [
       "[1, 2, 8, 3, 'qwerty', 4, 5, 7]"
      ]
     },
     "execution_count": 41,
     "metadata": {},
     "output_type": "execute_result"
    }
   ],
   "source": [
    "lst.insert(4, 'qwerty')\n",
    "lst"
   ]
  },
  {
   "cell_type": "code",
   "execution_count": 43,
   "id": "e502f1d8-72ac-4da4-82e0-501735a89675",
   "metadata": {},
   "outputs": [
    {
     "data": {
      "text/plain": [
       "[1, 8, 3, 'qwerty', 4, 5, 7]"
      ]
     },
     "execution_count": 43,
     "metadata": {},
     "output_type": "execute_result"
    }
   ],
   "source": [
    "lst.remove(4)\n",
    "lst.remove(lst[1])\n",
    "lst"
   ]
  },
  {
   "cell_type": "code",
   "execution_count": null,
   "id": "4f7fa8e7-072c-47d9-b54a-c95a15198f1d",
   "metadata": {},
   "outputs": [],
   "source": [
    "#exercise\n",
    "#remove the string 'qwerty' and then sort\n",
    "\n",
    "\n",
    "\n"
   ]
  },
  {
   "cell_type": "markdown",
   "id": "f188f19d-7065-409f-9f0d-2be6d0484512",
   "metadata": {},
   "source": [
    "Tuple"
   ]
  },
  {
   "cell_type": "code",
   "execution_count": 44,
   "id": "bd915bb4-921b-44bd-9266-82b0e48c5d5c",
   "metadata": {},
   "outputs": [],
   "source": [
    "atuple = (3, 'asdf', 4.3)\n",
    "\n",
    "atuple = 3, 'asdf', 4.3"
   ]
  },
  {
   "cell_type": "code",
   "execution_count": 46,
   "id": "38766907-0d4d-4ed3-b599-d4926db29491",
   "metadata": {},
   "outputs": [
    {
     "data": {
      "text/plain": [
       "(3, 'asdf', 4.3, 3, 'asdf', 4.3, 3, 'asdf', 4.3)"
      ]
     },
     "execution_count": 46,
     "metadata": {},
     "output_type": "execute_result"
    }
   ],
   "source": [
    "atuple*3"
   ]
  },
  {
   "cell_type": "code",
   "execution_count": null,
   "id": "fbcfc02a-4c53-4c44-a9d6-39ead69b1181",
   "metadata": {},
   "outputs": [],
   "source": [
    "# difference between a tuple and a list\n",
    "# A list is nutable \n",
    "# A list is immutable\n",
    "\n"
   ]
  },
  {
   "cell_type": "code",
   "execution_count": 47,
   "id": "7173e6dd-8301-4ab9-a42a-b86e19ad64e3",
   "metadata": {},
   "outputs": [
    {
     "name": "stdout",
     "output_type": "stream",
     "text": [
      "[-100, 0, 2, 3, 4, 5]\n",
      "[13.13, 0, 2, 3, 4, 5]\n"
     ]
    }
   ],
   "source": [
    "print(alist)\n",
    "alist[0] = 13.13\n",
    "print(alist)"
   ]
  },
  {
   "cell_type": "code",
   "execution_count": 48,
   "id": "9b53c0bb-7298-478a-87ab-acda8a9112c6",
   "metadata": {},
   "outputs": [
    {
     "name": "stdout",
     "output_type": "stream",
     "text": [
      "3\n"
     ]
    },
    {
     "ename": "TypeError",
     "evalue": "'tuple' object does not support item assignment",
     "output_type": "error",
     "traceback": [
      "\u001b[1;31m---------------------------------------------------------------------------\u001b[0m",
      "\u001b[1;31mTypeError\u001b[0m                                 Traceback (most recent call last)",
      "\u001b[1;32m<ipython-input-48-03eeb887e2e3>\u001b[0m in \u001b[0;36m<module>\u001b[1;34m\u001b[0m\n\u001b[0;32m      1\u001b[0m \u001b[1;31m# test for immutability\u001b[0m\u001b[1;33m\u001b[0m\u001b[1;33m\u001b[0m\u001b[1;33m\u001b[0m\u001b[0m\n\u001b[0;32m      2\u001b[0m \u001b[0mprint\u001b[0m\u001b[1;33m(\u001b[0m\u001b[0matuple\u001b[0m\u001b[1;33m[\u001b[0m\u001b[1;36m0\u001b[0m\u001b[1;33m]\u001b[0m\u001b[1;33m)\u001b[0m\u001b[1;33m\u001b[0m\u001b[1;33m\u001b[0m\u001b[0m\n\u001b[1;32m----> 3\u001b[1;33m \u001b[0matuple\u001b[0m\u001b[1;33m[\u001b[0m\u001b[1;36m0\u001b[0m\u001b[1;33m]\u001b[0m \u001b[1;33m=\u001b[0m \u001b[1;36m13.12\u001b[0m\u001b[1;33m\u001b[0m\u001b[1;33m\u001b[0m\u001b[0m\n\u001b[0m\u001b[0;32m      4\u001b[0m \u001b[0mprint\u001b[0m\u001b[1;33m(\u001b[0m\u001b[0matuple\u001b[0m\u001b[1;33m)\u001b[0m\u001b[1;33m\u001b[0m\u001b[1;33m\u001b[0m\u001b[0m\n",
      "\u001b[1;31mTypeError\u001b[0m: 'tuple' object does not support item assignment"
     ]
    }
   ],
   "source": [
    "# test for immutability \n",
    "print(atuple[0])\n",
    "atuple[0] = 13.12\n",
    "print(atuple)"
   ]
  },
  {
   "cell_type": "markdown",
   "id": "e98a1805-8f18-4579-a281-062244f7799b",
   "metadata": {},
   "source": [
    "\n",
    "Boolean  #used in logical programming"
   ]
  },
  {
   "cell_type": "code",
   "execution_count": null,
   "id": "174f5e6c-4ba0-4f87-b77e-b8a9d0c3d35d",
   "metadata": {},
   "outputs": [],
   "source": [
    "b = True\n",
    "f = False"
   ]
  },
  {
   "cell_type": "code",
   "execution_count": 50,
   "id": "6dfa627a-c100-4466-a7b3-dd6bc340efbc",
   "metadata": {},
   "outputs": [
    {
     "data": {
      "text/plain": [
       "False"
      ]
     },
     "execution_count": 50,
     "metadata": {},
     "output_type": "execute_result"
    }
   ],
   "source": [
    "4 == 4.1"
   ]
  },
  {
   "cell_type": "code",
   "execution_count": 51,
   "id": "b2f9674f-7175-4ed2-b53a-dae054320c4e",
   "metadata": {},
   "outputs": [
    {
     "name": "stdout",
     "output_type": "stream",
     "text": [
      "False\n"
     ]
    }
   ],
   "source": [
    "test = 4 == 48\n",
    "\n",
    "print(test)"
   ]
  },
  {
   "cell_type": "code",
   "execution_count": 52,
   "id": "87c27ad7-0fd4-4842-9a68-2a809f9da55d",
   "metadata": {},
   "outputs": [
    {
     "data": {
      "text/plain": [
       "True"
      ]
     },
     "execution_count": 52,
     "metadata": {},
     "output_type": "execute_result"
    }
   ],
   "source": [
    "3<=9\n",
    "7 != 9 #this means 7 not equal to"
   ]
  },
  {
   "cell_type": "code",
   "execution_count": 54,
   "id": "f43b555a-f3eb-4aa8-b3bd-0db1e87372fb",
   "metadata": {},
   "outputs": [
    {
     "data": {
      "text/plain": [
       "False"
      ]
     },
     "execution_count": 54,
     "metadata": {},
     "output_type": "execute_result"
    }
   ],
   "source": [
    "# conjunctivbe comparision\n",
    "\n",
    "x =10\n",
    "x>5 and x<15\n",
    "x>5 and y>15 and (x+y)<50"
   ]
  },
  {
   "cell_type": "code",
   "execution_count": 55,
   "id": "3f206ae6-fb86-4d31-a76a-4451857ba5e8",
   "metadata": {},
   "outputs": [
    {
     "data": {
      "text/plain": [
       "True"
      ]
     },
     "execution_count": 55,
     "metadata": {},
     "output_type": "execute_result"
    }
   ],
   "source": [
    "x > 5 or y<15"
   ]
  },
  {
   "cell_type": "code",
   "execution_count": 56,
   "id": "af3e36f6-299f-4e2f-81bd-cc8fd58d456b",
   "metadata": {},
   "outputs": [
    {
     "data": {
      "text/plain": [
       "True"
      ]
     },
     "execution_count": 56,
     "metadata": {},
     "output_type": "execute_result"
    }
   ],
   "source": [
    "bool(-34223.99)"
   ]
  },
  {
   "cell_type": "code",
   "execution_count": 57,
   "id": "d0d21607-3c0e-4e92-8c6a-47194ad6f9c1",
   "metadata": {},
   "outputs": [
    {
     "data": {
      "text/plain": [
       "True"
      ]
     },
     "execution_count": 57,
     "metadata": {},
     "output_type": "execute_result"
    }
   ],
   "source": [
    "bool('eel')"
   ]
  },
  {
   "cell_type": "code",
   "execution_count": 58,
   "id": "d52b1bc5-cc02-43ce-859a-1fc3747de120",
   "metadata": {},
   "outputs": [
    {
     "data": {
      "text/plain": [
       "True"
      ]
     },
     "execution_count": 58,
     "metadata": {},
     "output_type": "execute_result"
    }
   ],
   "source": [
    "bool(' ')"
   ]
  },
  {
   "cell_type": "code",
   "execution_count": null,
   "id": "b3c6c76d-0630-48a1-bd2c-632d92b059bb",
   "metadata": {},
   "outputs": [],
   "source": [
    "# Excrise\n",
    "\n",
    "#input from the user 3 number: a,b,c\n",
    "#check wether c**2 = a**2 + b**2\n",
    "#print out the result\n",
    "\n",
    "\n",
    "#kist []\n",
    "# Atuple()\n",
    "#dictionaries\n"
   ]
  },
  {
   "cell_type": "markdown",
   "id": "a7619ad9-56c2-43aa-815a-409fc9e39af6",
   "metadata": {},
   "source": [
    "D = dict()\n"
   ]
  },
  {
   "cell_type": "code",
   "execution_count": 61,
   "id": "bc4348dd-77ed-4217-88b4-51529e2df97e",
   "metadata": {},
   "outputs": [
    {
     "ename": "ModuleNotFoundError",
     "evalue": "No module named 'keras'",
     "output_type": "error",
     "traceback": [
      "\u001b[1;31m---------------------------------------------------------------------------\u001b[0m",
      "\u001b[1;31mModuleNotFoundError\u001b[0m                       Traceback (most recent call last)",
      "\u001b[1;32m<ipython-input-61-88d96843a926>\u001b[0m in \u001b[0;36m<module>\u001b[1;34m\u001b[0m\n\u001b[1;32m----> 1\u001b[1;33m \u001b[1;32mimport\u001b[0m \u001b[0mkeras\u001b[0m\u001b[1;33m\u001b[0m\u001b[1;33m\u001b[0m\u001b[0m\n\u001b[0m",
      "\u001b[1;31mModuleNotFoundError\u001b[0m: No module named 'keras'"
     ]
    }
   ],
   "source": [
    "import keras"
   ]
  },
  {
   "cell_type": "code",
   "execution_count": 1,
   "id": "2c1e6fa0-0d83-4bc2-ab2f-ce5c6098fc5c",
   "metadata": {},
   "outputs": [
    {
     "data": {
      "text/plain": [
       "{}"
      ]
     },
     "execution_count": 1,
     "metadata": {},
     "output_type": "execute_result"
    }
   ],
   "source": [
    "# dictionaries : key/value pairs\n",
    "D =dict()\n",
    "\n",
    "D\n",
    "# [] Lists\n",
    "# () tuples\n",
    "# {} dictionaries\n",
    "\n"
   ]
  },
  {
   "cell_type": "code",
   "execution_count": 3,
   "id": "17bd69a3-401b-4552-b48f-dc406899bed2",
   "metadata": {},
   "outputs": [
    {
     "data": {
      "text/plain": [
       "{'name': 'Mike', 'ageRnage': [20, 50]}"
      ]
     },
     "execution_count": 3,
     "metadata": {},
     "output_type": "execute_result"
    }
   ],
   "source": [
    "D['name'] = 'Mike'\n",
    "D['ageRnage'] = [20,50]\n",
    "\n",
    "D"
   ]
  },
  {
   "cell_type": "code",
   "execution_count": null,
   "id": "c49667b2-65e9-454e-93ab-1c571f651e07",
   "metadata": {},
   "outputs": [],
   "source": [
    "'''\n",
    "Dictionaries are not ordered, list are ordered, tuples are ordered but dictionaries are not ordered\n",
    "'''\n",
    "\n",
    "E = {'name': 'Mike', 'ageRnage': [20, 50], 'FavColor' : 'purple'}\n"
   ]
  },
  {
   "cell_type": "markdown",
   "id": "a34d2a8d-9d03-4070-8faa-e704122fec83",
   "metadata": {},
   "source": [
    "Indexing: indexing is what allows us to access particular elements of a list or a tuple or any data type\n",
    "that is an ordered list of item\n",
    "\n",
    "indexing means to call a specific index or element of an ordered collection of information\n",
    "\n"
   ]
  },
  {
   "cell_type": "code",
   "execution_count": 56,
   "id": "6ef5352d-4458-4550-8626-1fa865adc3a1",
   "metadata": {},
   "outputs": [],
   "source": [
    "alist = [4,6,2,-6,'qwerty',10,0.1]\n",
    "#alist[4] # this is for an index 4   ####We use square bracket to creat index"
   ]
  },
  {
   "cell_type": "code",
   "execution_count": 3,
   "id": "5cd360eb-b87d-4cf9-a09e-8254accf3075",
   "metadata": {},
   "outputs": [
    {
     "data": {
      "text/plain": [
       "int"
      ]
     },
     "execution_count": 3,
     "metadata": {},
     "output_type": "execute_result"
    }
   ],
   "source": [
    "alist[0]"
   ]
  },
  {
   "cell_type": "code",
   "execution_count": 57,
   "id": "8f06357d-8c59-4cdf-82b9-05ef90e34df3",
   "metadata": {},
   "outputs": [
    {
     "ename": "TypeError",
     "evalue": "'list' object is not callable",
     "output_type": "error",
     "traceback": [
      "\u001b[1;31m---------------------------------------------------------------------------\u001b[0m",
      "\u001b[1;31mTypeError\u001b[0m                                 Traceback (most recent call last)",
      "\u001b[1;32m<ipython-input-57-a9aa1d890853>\u001b[0m in \u001b[0;36m<module>\u001b[1;34m\u001b[0m\n\u001b[0;32m      3\u001b[0m '''\n\u001b[0;32m      4\u001b[0m \u001b[0midx\u001b[0m \u001b[1;33m=\u001b[0m \u001b[1;36m4\u001b[0m\u001b[1;33m\u001b[0m\u001b[1;33m\u001b[0m\u001b[0m\n\u001b[1;32m----> 5\u001b[1;33m \u001b[0malist\u001b[0m\u001b[1;33m(\u001b[0m\u001b[1;36m4\u001b[0m\u001b[1;33m)\u001b[0m\u001b[1;33m\u001b[0m\u001b[1;33m\u001b[0m\u001b[0m\n\u001b[0m",
      "\u001b[1;31mTypeError\u001b[0m: 'list' object is not callable"
     ]
    }
   ],
   "source": [
    "'''\n",
    "Index must be integers and not float\n",
    "'''\n",
    "idx = 4\n",
    "alist(4)\n"
   ]
  },
  {
   "cell_type": "code",
   "execution_count": 14,
   "id": "5d7e4a10-598b-41b4-860a-e5d9812276ba",
   "metadata": {},
   "outputs": [
    {
     "data": {
      "text/plain": [
       "0.1"
      ]
     },
     "execution_count": 14,
     "metadata": {},
     "output_type": "execute_result"
    }
   ],
   "source": [
    "## If we want to access the last element \n",
    "#alist[len(alist)]\n",
    "\n",
    "\n",
    "alist[len(alist)-1]\n",
    "\n",
    "alist[-1]"
   ]
  },
  {
   "cell_type": "code",
   "execution_count": 20,
   "id": "fb841f9f-7de8-4cdb-8bc0-75833622aeef",
   "metadata": {},
   "outputs": [
    {
     "data": {
      "text/plain": [
       "30"
      ]
     },
     "execution_count": 20,
     "metadata": {},
     "output_type": "execute_result"
    }
   ],
   "source": [
    "## how to access embedded list\n",
    "blist = [4,2,-6,[10,20,30,4],10,0.1]\n",
    "\n",
    "exa = blist[3]\n",
    "\n",
    "exa[2]"
   ]
  },
  {
   "cell_type": "code",
   "execution_count": 21,
   "id": "4bc7102d-afa7-4756-8b41-e951905d57c8",
   "metadata": {},
   "outputs": [
    {
     "data": {
      "text/plain": [
       "30"
      ]
     },
     "execution_count": 21,
     "metadata": {},
     "output_type": "execute_result"
    }
   ],
   "source": [
    "blist[3][2]"
   ]
  },
  {
   "cell_type": "code",
   "execution_count": 23,
   "id": "67ea6585-f6e1-4ad7-b103-bd5508cfa4f1",
   "metadata": {},
   "outputs": [
    {
     "data": {
      "text/plain": [
       "'yummy'"
      ]
     },
     "execution_count": 23,
     "metadata": {},
     "output_type": "execute_result"
    }
   ],
   "source": [
    "#Exercise\n",
    "\n",
    "embeddiclist = [4, 'hi', [5,4,3],'yo',{'squirrel': 'cute', 'penguin': 'yummy'}]\n",
    "\n",
    "embeddiclist[4]['penguin']"
   ]
  },
  {
   "cell_type": "markdown",
   "id": "4653e32b-d0be-4cbb-899c-98716515d8cc",
   "metadata": {},
   "source": [
    "Slicing: Slicing is a procedure on lists and tuples and numpy arrays of matricies that allow you \n",
    "to multiple elements at the same time.\n",
    "\n",
    "\n",
    "\n",
    "    "
   ]
  },
  {
   "cell_type": "code",
   "execution_count": 27,
   "id": "e75bb4d5-8d27-4155-9e61-ceef9cd0d4bd",
   "metadata": {},
   "outputs": [
    {
     "data": {
      "text/plain": [
       "[5, 6]"
      ]
     },
     "execution_count": 27,
     "metadata": {},
     "output_type": "execute_result"
    }
   ],
   "source": [
    "a= list(range(5,11))  #this produces a range of values from 5 to 11\n",
    "a[2]  # this gives the index no 2 which is third element in the list which is 7\n",
    "\n",
    "\n",
    "## so lets say you want all the elements from o to the 3rd index\n",
    "\n",
    "a[0:2]  #this returns from 0 up until 2 but exclusing 2"
   ]
  },
  {
   "cell_type": "code",
   "execution_count": 28,
   "id": "38632be4-e57d-4528-9406-89b63554cffc",
   "metadata": {},
   "outputs": [
    {
     "data": {
      "text/plain": [
       "[5, 6, 7]"
      ]
     },
     "execution_count": 28,
     "metadata": {},
     "output_type": "execute_result"
    }
   ],
   "source": [
    "a[0:3] #if we want to access all the elements in the list from index 0 to 3 but not including 3"
   ]
  },
  {
   "cell_type": "code",
   "execution_count": 29,
   "id": "cc477245-4b06-4199-8dc2-cecf13997aec",
   "metadata": {},
   "outputs": [
    {
     "data": {
      "text/plain": [
       "[8, 9, 10]"
      ]
     },
     "execution_count": 29,
     "metadata": {},
     "output_type": "execute_result"
    }
   ],
   "source": [
    "## so if you want to slice from 3 up until the end\n",
    "\n",
    "a[3:]"
   ]
  },
  {
   "cell_type": "code",
   "execution_count": 33,
   "id": "ff9eee81-abb7-488c-8ab3-ae95581c9b4f",
   "metadata": {},
   "outputs": [
    {
     "data": {
      "text/plain": [
       "[5, 6, 7, 8, 9, 10]"
      ]
     },
     "execution_count": 33,
     "metadata": {},
     "output_type": "execute_result"
    }
   ],
   "source": [
    "a= list(range(5,11)) \n",
    "a"
   ]
  },
  {
   "cell_type": "code",
   "execution_count": 36,
   "id": "69f86a40-97e6-4241-a1ea-7b1d2087bafa",
   "metadata": {},
   "outputs": [
    {
     "data": {
      "text/plain": [
       "[5, 7, 9]"
      ]
     },
     "execution_count": 36,
     "metadata": {},
     "output_type": "execute_result"
    }
   ],
   "source": [
    "\n",
    "a[::2]  ## this line of code reduces the list by two till the end"
   ]
  },
  {
   "cell_type": "code",
   "execution_count": 38,
   "id": "ffd6b84d-1512-4a12-8df6-c998aedf4f86",
   "metadata": {},
   "outputs": [
    {
     "data": {
      "text/plain": [
       "[6, 8, 10]"
      ]
     },
     "execution_count": 38,
     "metadata": {},
     "output_type": "execute_result"
    }
   ],
   "source": [
    "## start from index 1 and count two times\n",
    "a[1::2] ### this skips by two but it start from index 1\n"
   ]
  },
  {
   "cell_type": "code",
   "execution_count": 39,
   "id": "31ff0c3f-efea-4566-b177-60168200df35",
   "metadata": {},
   "outputs": [
    {
     "data": {
      "text/plain": [
       "[6, 10]"
      ]
     },
     "execution_count": 39,
     "metadata": {},
     "output_type": "execute_result"
    }
   ],
   "source": [
    "a[1::4]  ## start from index 1 and count 4 times. ## when counting include the begnning index"
   ]
  },
  {
   "cell_type": "code",
   "execution_count": 42,
   "id": "5c54770e-ce29-48de-bab1-9204c5869096",
   "metadata": {},
   "outputs": [
    {
     "data": {
      "text/plain": [
       "[5, 7, 9]"
      ]
     },
     "execution_count": 42,
     "metadata": {},
     "output_type": "execute_result"
    }
   ],
   "source": [
    "start = 0\n",
    "stop = 5\n",
    "skip = 2\n",
    "\n",
    "a[start:stop:skip]"
   ]
  },
  {
   "cell_type": "code",
   "execution_count": 43,
   "id": "b08eb025-6124-4f6b-8d80-7597e756bab0",
   "metadata": {},
   "outputs": [
    {
     "data": {
      "text/plain": [
       "[10, 9, 8, 7, 6, 5]"
      ]
     },
     "execution_count": 43,
     "metadata": {},
     "output_type": "execute_result"
    }
   ],
   "source": [
    "## reverse a list\n",
    "a[::-1]"
   ]
  },
  {
   "cell_type": "code",
   "execution_count": 4,
   "id": "b964ff80-5c35-4938-ab6f-827a143e4110",
   "metadata": {},
   "outputs": [
    {
     "data": {
      "text/plain": [
       "'mike is a nice guy'"
      ]
     },
     "execution_count": 4,
     "metadata": {},
     "output_type": "execute_result"
    }
   ],
   "source": [
    "#exercise\n",
    "text = '345dfyug ecin a si ekim 93855d'\n",
    "#use slicing to write 'mike is a nice guy' from the list 'text'\n",
    "\n",
    "start = -8\n",
    "stop = 4\n",
    "skip = -1\n",
    "text[start:stop:skip]"
   ]
  },
  {
   "cell_type": "markdown",
   "id": "d7ea6d55-39c4-4e97-8889-d47e6422b0c0",
   "metadata": {},
   "source": [
    "function"
   ]
  },
  {
   "cell_type": "code",
   "execution_count": 5,
   "id": "18e97296-64bb-486d-a3a7-225482c51bf7",
   "metadata": {},
   "outputs": [
    {
     "data": {
      "text/plain": [
       "50"
      ]
     },
     "execution_count": 5,
     "metadata": {},
     "output_type": "execute_result"
    }
   ],
   "source": [
    "## sum function\n",
    "sum([10,10,30])"
   ]
  },
  {
   "cell_type": "code",
   "execution_count": 6,
   "id": "d9304941-222e-4052-9fdc-6a4962016400",
   "metadata": {},
   "outputs": [
    {
     "data": {
      "text/plain": [
       "70"
      ]
     },
     "execution_count": 6,
     "metadata": {},
     "output_type": "execute_result"
    }
   ],
   "source": [
    "var = [20,20,30]\n",
    "sum(var)"
   ]
  },
  {
   "cell_type": "code",
   "execution_count": 8,
   "id": "cbb757ed-da21-417d-b3bc-7b53be2b00ff",
   "metadata": {},
   "outputs": [],
   "source": [
    "var =[20,20,30, [1,2,3]]\n",
    "sum(sum)"
   ]
  },
  {
   "cell_type": "code",
   "execution_count": 9,
   "id": "fcfc9a6c-307e-4623-89a1-f5ca400b2a88",
   "metadata": {},
   "outputs": [
    {
     "data": {
      "text/plain": [
       "120.55"
      ]
     },
     "execution_count": 9,
     "metadata": {},
     "output_type": "execute_result"
    }
   ],
   "source": [
    "var  =[20,20,30,50.55]\n",
    "sum(var)"
   ]
  },
  {
   "cell_type": "code",
   "execution_count": 10,
   "id": "d11fd370-14c4-42b6-a886-ccb8bab273cd",
   "metadata": {},
   "outputs": [
    {
     "name": "stdout",
     "output_type": "stream",
     "text": [
      "The sum is 90.55\n"
     ]
    }
   ],
   "source": [
    "var = [20,20,50.55]\n",
    "output = sum(var)\n",
    "\n",
    "print('The sum is ' + str(output))"
   ]
  },
  {
   "cell_type": "code",
   "execution_count": null,
   "id": "157272ac-a74d-4132-a825-b0e603c7d177",
   "metadata": {},
   "outputs": [],
   "source": [
    "output = sum(var1, var2) #sum function can take multiple inputs just as variable."
   ]
  },
  {
   "cell_type": "code",
   "execution_count": 11,
   "id": "df580043-1ce0-4f82-8cbe-a0c7e64d8a38",
   "metadata": {},
   "outputs": [
    {
     "data": {
      "text/plain": [
       "30.183333333333334"
      ]
     },
     "execution_count": 11,
     "metadata": {},
     "output_type": "execute_result"
    }
   ],
   "source": [
    "#Exercise: compute the arithmetic average of the var\n",
    "sum(var) / len(var)"
   ]
  },
  {
   "cell_type": "markdown",
   "id": "68919f0c-2b52-4332-8a60-91a960be0249",
   "metadata": {},
   "source": [
    "### NUMPY"
   ]
  },
  {
   "cell_type": "code",
   "execution_count": null,
   "id": "c4e25884-a67b-41d1-8882-239b57237af6",
   "metadata": {},
   "outputs": [],
   "source": [
    "## There are tons of functions that does not come with the built in functions\n",
    "### so these functions are in libraries \n",
    "\n",
    "##Introducing you to libraries which is collection of functions"
   ]
  },
  {
   "cell_type": "code",
   "execution_count": 13,
   "id": "255132f6-5502-4a47-b2bd-b2a15db97e8a",
   "metadata": {},
   "outputs": [],
   "source": [
    "import numpy as np #everything that is accessible in numpy can be accessible in np."
   ]
  },
  {
   "cell_type": "code",
   "execution_count": 17,
   "id": "f7498b9e-34b6-4c49-bd0a-1b7475b8565c",
   "metadata": {},
   "outputs": [
    {
     "data": {
      "text/plain": [
       "2.5"
      ]
     },
     "execution_count": 17,
     "metadata": {},
     "output_type": "execute_result"
    }
   ],
   "source": [
    "numbers = [1,2,3,4]\n",
    "np.mean(numbers)"
   ]
  },
  {
   "cell_type": "code",
   "execution_count": null,
   "id": "20277051-6796-43b2-8328-dce5d3add19f",
   "metadata": {},
   "outputs": [],
   "source": [
    "'''\n",
    "This calls a function that gives linearly spaced numbers from 1 to 7 and there is going to be 5 of them\n",
    "'''\n",
    "np.linspace(1,7,5)"
   ]
  },
  {
   "cell_type": "code",
   "execution_count": 14,
   "id": "9645612e-b985-4bd1-b032-30192f36e948",
   "metadata": {},
   "outputs": [
    {
     "data": {
      "text/plain": [
       "array([1. , 2.5, 4. , 5.5, 7. ])"
      ]
     },
     "execution_count": 14,
     "metadata": {},
     "output_type": "execute_result"
    }
   ],
   "source": [
    "np.linspace(1,7,5)  \n",
    "### Observations: the result of the operation is neither a list, tuple or anyother object you know\n",
    "### The result of the operation is call an ARRAY."
   ]
  },
  {
   "cell_type": "code",
   "execution_count": 15,
   "id": "ec7b547d-cb48-4966-a6d6-76ceab7d5e07",
   "metadata": {},
   "outputs": [
    {
     "data": {
      "text/plain": [
       "numpy.ndarray"
      ]
     },
     "execution_count": 15,
     "metadata": {},
     "output_type": "execute_result"
    }
   ],
   "source": [
    "x = np.linspace(1,7,5) \n",
    "type(x) ## observe that the type of x is an array\n",
    "### The nd means an n dimensional array. the type 'numpy.ndarray allows us to create multidimensional\n",
    "## arrays such as matricies and tensors and so on'"
   ]
  },
  {
   "cell_type": "code",
   "execution_count": 18,
   "id": "f78d3e19-3793-4a0b-9b44-bbe9588a5872",
   "metadata": {},
   "outputs": [
    {
     "data": {
      "text/plain": [
       "list"
      ]
     },
     "execution_count": 18,
     "metadata": {},
     "output_type": "execute_result"
    }
   ],
   "source": [
    "type(numbers)"
   ]
  },
  {
   "cell_type": "code",
   "execution_count": 19,
   "id": "2a4ef7bb-a102-4cc4-b9ec-4d138605050e",
   "metadata": {},
   "outputs": [
    {
     "name": "stdout",
     "output_type": "stream",
     "text": [
      "<class 'list'>\n",
      "<class 'numpy.ndarray'>\n"
     ]
    }
   ],
   "source": [
    "'''\n",
    "We can convert from list to numpy\n",
    "'''\n",
    "\n",
    "numbers_np = np.array(numbers)\n",
    "print(type(numbers))\n",
    "print(type(numbers_np))"
   ]
  },
  {
   "cell_type": "code",
   "execution_count": 22,
   "id": "5f92851d-ceb2-4499-856f-2ed317db211d",
   "metadata": {},
   "outputs": [
    {
     "data": {
      "text/plain": [
       "1"
      ]
     },
     "execution_count": 22,
     "metadata": {},
     "output_type": "execute_result"
    }
   ],
   "source": [
    "## Remember that there are methods you can call on a list\n",
    "\n",
    "## Example: numbers.append     numbers.sort\n",
    "\n",
    "\n",
    "\n",
    "### there are methods that you can apply on numpy\n",
    "numbers_np.min()\n",
    "np.min(numbers_np)"
   ]
  },
  {
   "cell_type": "code",
   "execution_count": 23,
   "id": "3f9966ed-06e4-4887-b92f-a8a359db1649",
   "metadata": {},
   "outputs": [
    {
     "data": {
      "text/plain": [
       "4"
      ]
     },
     "execution_count": 23,
     "metadata": {},
     "output_type": "execute_result"
    }
   ],
   "source": [
    "np.max(numbers)  #there are methods on numpy that can be called on a list \n",
    "## remember that object numbers is a list\n",
    "##so numpy is gonna treat it as numbers"
   ]
  },
  {
   "cell_type": "code",
   "execution_count": 24,
   "id": "edef18a6-c15e-4fe4-8e40-3388850dc997",
   "metadata": {},
   "outputs": [
    {
     "data": {
      "text/plain": [
       "2.5"
      ]
     },
     "execution_count": 24,
     "metadata": {},
     "output_type": "execute_result"
    }
   ],
   "source": [
    "np.mean(numbers)"
   ]
  },
  {
   "cell_type": "code",
   "execution_count": 25,
   "id": "87717828-59ec-4b0a-b3c6-476ce2835327",
   "metadata": {},
   "outputs": [
    {
     "data": {
      "text/plain": [
       "3.5"
      ]
     },
     "execution_count": 25,
     "metadata": {},
     "output_type": "execute_result"
    }
   ],
   "source": [
    "#import numpy as np\n",
    "from numpy import mean as m  ## the instruction here imports only mean from all the numpy functions\n",
    "numbers = [1,2,3,4,5,6]\n",
    "m(numbers)"
   ]
  },
  {
   "cell_type": "code",
   "execution_count": null,
   "id": "ac5cd4e0-f8f8-43c2-ae7e-08e2e3fa0615",
   "metadata": {},
   "outputs": [],
   "source": [
    "## in-place\n",
    "## out-of-place operations"
   ]
  },
  {
   "cell_type": "code",
   "execution_count": 26,
   "id": "8494e46c-8db2-45e1-8c9c-7d714001662f",
   "metadata": {},
   "outputs": [
    {
     "name": "stdout",
     "output_type": "stream",
     "text": [
      "[4, 3, 5, 6, 7, 8, 4]\n",
      "[3, 4, 4, 5, 6, 7, 8]\n"
     ]
    }
   ],
   "source": [
    "n = [4,3,5,6,7,8,4]\n",
    "\n",
    "\n",
    "print(n) #this prints the original list object\n",
    "n.sort() #this sorts the list object\n",
    "print(n) #this prints the sorted list object"
   ]
  },
  {
   "cell_type": "code",
   "execution_count": 27,
   "id": "60bd46b0-7a62-4598-9944-489ec2887caa",
   "metadata": {},
   "outputs": [
    {
     "name": "stdout",
     "output_type": "stream",
     "text": [
      "[4 3 5 6 7 8 4]\n",
      "[3 4 4 5 6 7 8]\n"
     ]
    }
   ],
   "source": [
    "n = [4,3,5,6,7,8,4]\n",
    "nn = np.array(n)\n",
    "\n",
    "print(nn) ## the object here is a numpy array \n",
    "nn.sort() ## this is a method for list being called on numpy\n",
    "print(nn) ##do you think the result will be the same"
   ]
  },
  {
   "cell_type": "code",
   "execution_count": 28,
   "id": "3f5097ea-3fa1-419f-926a-54f69cbf95f4",
   "metadata": {},
   "outputs": [
    {
     "name": "stdout",
     "output_type": "stream",
     "text": [
      "[4 3 5 6 7 8 4]\n",
      "[4 3 5 6 7 8 4]\n"
     ]
    }
   ],
   "source": [
    "n = [4,3,5,6,7,8,4]\n",
    "nn = np.array(n)\n",
    "\n",
    "print(nn)  \n",
    "np.sort(nn) ## what will this result be??\n",
    "print(nn)"
   ]
  },
  {
   "cell_type": "code",
   "execution_count": null,
   "id": "6fd9e0ac-f7a7-4248-8a46-47a201088fce",
   "metadata": {},
   "outputs": [],
   "source": [
    "np.sort(nn) ### this is not an inplace operation\n",
    "\n"
   ]
  },
  {
   "cell_type": "code",
   "execution_count": 29,
   "id": "efe686df-ee81-4980-a2b6-136b401eb09e",
   "metadata": {},
   "outputs": [
    {
     "name": "stdout",
     "output_type": "stream",
     "text": [
      "[4 3 5 6 7 8 4]\n",
      "[3 4 4 5 6 7 8]\n"
     ]
    }
   ],
   "source": [
    "n = [4,3,5,6,7,8,4]\n",
    "nn = np.array(n)\n",
    "\n",
    "print(nn)  \n",
    "nns = np.sort(nn) \n",
    "print(nns)"
   ]
  },
  {
   "cell_type": "markdown",
   "id": "5b849782-db23-4f30-983f-98dd2425349b",
   "metadata": {},
   "source": [
    "#PANDAS"
   ]
  },
  {
   "cell_type": "code",
   "execution_count": null,
   "id": "b01fe08c-c8f2-44b4-a3bd-4c4d0afb822a",
   "metadata": {},
   "outputs": [],
   "source": [
    "'''\n",
    "There are many libraries in the python universe. \n",
    "\n",
    "What does pandas allow us to do:\n",
    "\n",
    "Pandas is a library that gives us access to functions that are specifically written for datasets\n",
    "\n",
    "Not all datasets but datasets can be organized like obervation by features.\n",
    "\n",
    "So think of datasets you find in excel spread sheets or any kinda spread sheet\n",
    "\n",
    "Data can be put into two dimensions where the rows are the observations and the columns are the features\n",
    "\n",
    "\n",
    "'''"
   ]
  },
  {
   "cell_type": "code",
   "execution_count": 42,
   "id": "324c0b55-85aa-4153-ba78-bc07ca01d6fd",
   "metadata": {},
   "outputs": [],
   "source": [
    "import numpy as np ## people import it as a short cut np\n",
    "import pandas as pd ## people typically import it as a shortcut as pd`"
   ]
  },
  {
   "cell_type": "code",
   "execution_count": 32,
   "id": "cafeefc4-696f-4d63-ba46-f1a89e1a5b91",
   "metadata": {},
   "outputs": [
    {
     "data": {
      "text/plain": [
       "-0.017010032048288767"
      ]
     },
     "execution_count": 32,
     "metadata": {},
     "output_type": "execute_result"
    }
   ],
   "source": [
    "## creat randome data by generating random numbers using the numpy function\n",
    "\n",
    "np.random.randn() #this returns a random number drawn from a gaussian distribution or normal distribution\n",
    "\n",
    "## each time you run the code above, you will get different numbers "
   ]
  },
  {
   "cell_type": "code",
   "execution_count": 33,
   "id": "0ba7a643-d803-4c63-b37d-9e54746e9709",
   "metadata": {},
   "outputs": [
    {
     "data": {
      "text/plain": [
       "array([-0.20073453,  0.69484597,  0.19994141, -1.55397357,  0.26086014])"
      ]
     },
     "execution_count": 33,
     "metadata": {},
     "output_type": "execute_result"
    }
   ],
   "source": [
    "np.random.randn(5) # this will generate a numpy array of five different random numbers."
   ]
  },
  {
   "cell_type": "code",
   "execution_count": 34,
   "id": "12bd7cc2-45a0-4230-9e9c-affc39bb945e",
   "metadata": {},
   "outputs": [
    {
     "data": {
      "text/plain": [
       "array([[ 4.13474260e-01, -1.16066898e+00,  1.53914082e+00,\n",
       "        -1.24038012e+00,  6.27973423e-01],\n",
       "       [-1.55455001e+00,  2.31033063e+00, -7.62344208e-01,\n",
       "        -1.20791926e+00, -1.85527490e-03],\n",
       "       [-3.54951744e-02, -1.15748266e+00,  3.56599378e-01,\n",
       "         6.28050719e-01, -1.78983740e+00],\n",
       "       [ 7.86332857e-01, -1.68623976e+00,  8.61537767e-02,\n",
       "         1.10855575e+00,  1.48409928e+00],\n",
       "       [ 5.83242695e-01,  1.55983224e+00, -1.05205246e+00,\n",
       "        -6.89379269e-01,  1.33109256e+00]])"
      ]
     },
     "execution_count": 34,
     "metadata": {},
     "output_type": "execute_result"
    }
   ],
   "source": [
    "np.random.randn(5,5) #this is a 5x5 random matrix"
   ]
  },
  {
   "cell_type": "code",
   "execution_count": 35,
   "id": "d594fe0d-9ce0-4a96-b19d-0843fa2c09c5",
   "metadata": {},
   "outputs": [
    {
     "data": {
      "text/plain": [
       "array([ 0.24890801,  0.10657229,  0.8026537 ,  1.77648674, -1.1885133 ,\n",
       "        0.63022061,  0.58095055,  0.86061498,  0.20621618,  0.44235374,\n",
       "       -0.36180177,  0.3662677 , -0.63741917, -1.81532227, -0.10158608,\n",
       "       -1.75017554,  0.43593099,  0.72579233, -0.3193957 , -0.79245234,\n",
       "        0.15728002, -0.37937207, -1.69686776,  0.60630711,  0.72569675,\n",
       "        1.36948634,  0.27761434,  0.64603846,  1.07743291, -1.68681232,\n",
       "        1.10215588,  2.32596867,  1.18911814, -0.98272939,  0.07734117,\n",
       "        0.39934711,  0.62235934, -1.0651898 , -0.11788135,  0.00898115,\n",
       "        0.09787884, -0.52833337,  0.80559437,  0.39267641,  0.72121825,\n",
       "       -1.16240836, -0.21585365,  0.45917095,  1.26876863,  2.00729883,\n",
       "        0.03080648, -2.60714038, -0.36750597,  2.02824698, -0.84792345,\n",
       "       -0.5863649 , -0.74561418, -0.15205741, -0.95677227,  0.82612715,\n",
       "        0.49462134,  1.33398699,  0.7223017 , -1.42773226, -1.26367295,\n",
       "       -1.7245491 , -0.88529989, -0.6008501 ,  0.59025267, -1.29824202,\n",
       "        1.63423141, -0.9555531 , -0.06225477,  0.28331654, -2.54560133,\n",
       "       -1.71616839, -0.97924006,  0.02298303,  0.40565511, -1.49056054,\n",
       "        0.05578251, -0.41117179, -0.19508989, -0.2768456 ,  1.00857977,\n",
       "       -0.72377242, -0.19441104,  0.45320708, -0.3962025 ,  0.55052044,\n",
       "       -1.08144264,  0.08521342, -0.33595988, -0.42231612,  0.59056832,\n",
       "       -1.400417  ,  1.51120166,  0.61324563,  0.36786919,  0.14166669])"
      ]
     },
     "execution_count": 35,
     "metadata": {},
     "output_type": "execute_result"
    }
   ],
   "source": [
    "np.random.randn(100) ## this is a list of randomly generated 100 numbers \n",
    "\n"
   ]
  },
  {
   "cell_type": "code",
   "execution_count": 37,
   "id": "41213148-800f-445f-b890-04b82b238aef",
   "metadata": {},
   "outputs": [
    {
     "data": {
      "text/plain": [
       "array([False, False, False,  True, False, False, False,  True, False,\n",
       "       False, False, False, False, False,  True,  True,  True,  True,\n",
       "       False,  True, False, False,  True,  True,  True, False,  True,\n",
       "       False, False,  True,  True,  True,  True,  True,  True,  True,\n",
       "        True, False,  True,  True,  True,  True, False, False, False,\n",
       "        True,  True,  True,  True, False, False, False, False,  True,\n",
       "        True, False,  True,  True, False, False,  True, False, False,\n",
       "        True,  True, False,  True,  True, False,  True,  True, False,\n",
       "        True, False, False,  True,  True,  True,  True,  True,  True,\n",
       "       False,  True, False,  True,  True, False, False, False,  True,\n",
       "        True,  True, False, False,  True,  True, False,  True,  True,\n",
       "       False])"
      ]
     },
     "execution_count": 37,
     "metadata": {},
     "output_type": "execute_result"
    }
   ],
   "source": [
    "var1 = np.random.randn(100)*5 + 20\n",
    "var2 = np.random.randn(100)>0  ##var2 is a bunch of trues or faulses \n",
    "\n"
   ]
  },
  {
   "cell_type": "code",
   "execution_count": 39,
   "id": "cad1d175-d57c-4cea-bc3d-6c6fd357c2ae",
   "metadata": {},
   "outputs": [
    {
     "data": {
      "text/plain": [
       "'\\nthis is a dataset of random numbers stored in two variables \\n\\nthe dataset is distributed over three different variables \\n\\nThere is are separate variables for each of the two features\\n\\nAnd a third variable for the labels.\\n'"
      ]
     },
     "execution_count": 39,
     "metadata": {},
     "output_type": "execute_result"
    }
   ],
   "source": [
    "#variable labels\n",
    "labels = ['temperature(c)', 'ice cream']\n",
    "\n",
    "'''\n",
    "So this is a dataset that contains temperature in celcius and a boolean that indicates trues and false \n",
    "whether someone ate ice cream on that day corresponding to the temperature.\n",
    "'''\n",
    "\n",
    "\n",
    "'''\n",
    "this is, a dataset of random numbers stored in two variables \n",
    "\n",
    "the dataset is distributed over three different variables \n",
    "\n",
    "There is are separate variables for each of the two features\n",
    "\n",
    "And a third variable for the labels.\n",
    "'''\n"
   ]
  },
  {
   "cell_type": "code",
   "execution_count": 40,
   "id": "c3af86f4-7b9a-4d12-8165-e2e44cb0fee9",
   "metadata": {},
   "outputs": [
    {
     "data": {
      "text/plain": [
       "{'temperature(c)': array([30.78740447, 25.98340859, 19.72285275, 16.79128235, 16.08803053,\n",
       "        13.955895  , 15.17403882, 28.35183665, 13.02131213, 24.2651825 ,\n",
       "        15.35135002, 19.59260586, 15.42809137, 23.45084437, 18.78642679,\n",
       "        21.00455033, 22.52701278, 17.50083073, 20.26499081, 29.29554985,\n",
       "        16.75200987, 22.55596842, 18.52348524, 15.20369929, 11.35074203,\n",
       "        19.5651807 , 22.85151364, 24.18267005, 21.56575854, 22.99071434,\n",
       "        24.42048158, 17.35765849, 27.22668077, 14.85144736, 15.08801215,\n",
       "        24.5393739 , 18.1264627 , 15.87951927, 14.38399778, 20.9677138 ,\n",
       "        13.79411931, 17.4167624 , 22.72815601, 13.59243235, 17.95471688,\n",
       "         8.49837177, 26.00058215, 21.63381131, 16.80251393, 20.12097443,\n",
       "        10.51711495, 19.16231384, 19.47456547, 23.77740583, 19.29307735,\n",
       "        22.518064  , 16.87270386, 11.47318029, 17.63355241, 18.26063754,\n",
       "        13.37592708, 25.40560479, 15.23166102, 21.46238432, 24.6488524 ,\n",
       "        17.45588208, 10.43554489, 18.20932792, 19.59532506, 20.2301042 ,\n",
       "         5.81970831, 21.58810351, 22.8125028 , 27.40481219, 16.02797544,\n",
       "        20.10102207, 18.90136893, 14.99761551, 15.38810401, 17.12969955,\n",
       "        26.8840565 , 25.19583895, 24.00781859, 24.38840606, 21.2159912 ,\n",
       "        19.75821174, 22.95523362, 19.1136539 ,  9.95972907, 28.74634203,\n",
       "        16.74388954, 23.09296064, 18.6241827 , 16.0324023 , 22.81833646,\n",
       "        22.50362395, 15.8154274 , 21.16982771, 14.06759455, 17.25517507]),\n",
       " 'ice cream': array([False, False, False,  True, False, False, False,  True, False,\n",
       "        False, False, False, False, False,  True,  True,  True,  True,\n",
       "        False,  True, False, False,  True,  True,  True, False,  True,\n",
       "        False, False,  True,  True,  True,  True,  True,  True,  True,\n",
       "         True, False,  True,  True,  True,  True, False, False, False,\n",
       "         True,  True,  True,  True, False, False, False, False,  True,\n",
       "         True, False,  True,  True, False, False,  True, False, False,\n",
       "         True,  True, False,  True,  True, False,  True,  True, False,\n",
       "         True, False, False,  True,  True,  True,  True,  True,  True,\n",
       "        False,  True, False,  True,  True, False, False, False,  True,\n",
       "         True,  True, False, False,  True,  True, False,  True,  True,\n",
       "        False])}"
      ]
     },
     "execution_count": 40,
     "metadata": {},
     "output_type": "execute_result"
    }
   ],
   "source": [
    "## put all the variable into a dictionary \n",
    "\n",
    "D = {labels[0]:var1, labels[1]:var2}\n",
    "\n",
    "D"
   ]
  },
  {
   "cell_type": "code",
   "execution_count": 43,
   "id": "87ec9299-a8da-4d6e-aa10-2150d8b2f164",
   "metadata": {},
   "outputs": [],
   "source": [
    "## import the dictionary into a pandas dataframe\n",
    "\n",
    "df = pd.DataFrame(data=D) ##python is case sensistive so ensure that the DataFrame is not dataframe"
   ]
  },
  {
   "cell_type": "code",
   "execution_count": 45,
   "id": "d964716c-bacf-4dd8-91b2-296b0a7d8d2b",
   "metadata": {},
   "outputs": [
    {
     "data": {
      "text/plain": [
       "pandas.core.frame.DataFrame"
      ]
     },
     "execution_count": 45,
     "metadata": {},
     "output_type": "execute_result"
    }
   ],
   "source": [
    "type(df)"
   ]
  },
  {
   "cell_type": "code",
   "execution_count": 46,
   "id": "19867f03-442b-4499-b8da-15e2be7e732b",
   "metadata": {},
   "outputs": [
    {
     "data": {
      "text/html": [
       "<div>\n",
       "<style scoped>\n",
       "    .dataframe tbody tr th:only-of-type {\n",
       "        vertical-align: middle;\n",
       "    }\n",
       "\n",
       "    .dataframe tbody tr th {\n",
       "        vertical-align: top;\n",
       "    }\n",
       "\n",
       "    .dataframe thead th {\n",
       "        text-align: right;\n",
       "    }\n",
       "</style>\n",
       "<table border=\"1\" class=\"dataframe\">\n",
       "  <thead>\n",
       "    <tr style=\"text-align: right;\">\n",
       "      <th></th>\n",
       "      <th>temperature(c)</th>\n",
       "      <th>ice cream</th>\n",
       "    </tr>\n",
       "  </thead>\n",
       "  <tbody>\n",
       "    <tr>\n",
       "      <th>0</th>\n",
       "      <td>30.787404</td>\n",
       "      <td>False</td>\n",
       "    </tr>\n",
       "    <tr>\n",
       "      <th>1</th>\n",
       "      <td>25.983409</td>\n",
       "      <td>False</td>\n",
       "    </tr>\n",
       "    <tr>\n",
       "      <th>2</th>\n",
       "      <td>19.722853</td>\n",
       "      <td>False</td>\n",
       "    </tr>\n",
       "    <tr>\n",
       "      <th>3</th>\n",
       "      <td>16.791282</td>\n",
       "      <td>True</td>\n",
       "    </tr>\n",
       "    <tr>\n",
       "      <th>4</th>\n",
       "      <td>16.088031</td>\n",
       "      <td>False</td>\n",
       "    </tr>\n",
       "    <tr>\n",
       "      <th>...</th>\n",
       "      <td>...</td>\n",
       "      <td>...</td>\n",
       "    </tr>\n",
       "    <tr>\n",
       "      <th>95</th>\n",
       "      <td>22.503624</td>\n",
       "      <td>True</td>\n",
       "    </tr>\n",
       "    <tr>\n",
       "      <th>96</th>\n",
       "      <td>15.815427</td>\n",
       "      <td>False</td>\n",
       "    </tr>\n",
       "    <tr>\n",
       "      <th>97</th>\n",
       "      <td>21.169828</td>\n",
       "      <td>True</td>\n",
       "    </tr>\n",
       "    <tr>\n",
       "      <th>98</th>\n",
       "      <td>14.067595</td>\n",
       "      <td>True</td>\n",
       "    </tr>\n",
       "    <tr>\n",
       "      <th>99</th>\n",
       "      <td>17.255175</td>\n",
       "      <td>False</td>\n",
       "    </tr>\n",
       "  </tbody>\n",
       "</table>\n",
       "<p>100 rows × 2 columns</p>\n",
       "</div>"
      ],
      "text/plain": [
       "    temperature(c)  ice cream\n",
       "0        30.787404      False\n",
       "1        25.983409      False\n",
       "2        19.722853      False\n",
       "3        16.791282       True\n",
       "4        16.088031      False\n",
       "..             ...        ...\n",
       "95       22.503624       True\n",
       "96       15.815427      False\n",
       "97       21.169828       True\n",
       "98       14.067595       True\n",
       "99       17.255175      False\n",
       "\n",
       "[100 rows x 2 columns]"
      ]
     },
     "execution_count": 46,
     "metadata": {},
     "output_type": "execute_result"
    }
   ],
   "source": [
    "df"
   ]
  },
  {
   "cell_type": "code",
   "execution_count": 47,
   "id": "a4fdde91-a2d8-4077-8390-5762fcdb3356",
   "metadata": {},
   "outputs": [
    {
     "data": {
      "text/html": [
       "<div>\n",
       "<style scoped>\n",
       "    .dataframe tbody tr th:only-of-type {\n",
       "        vertical-align: middle;\n",
       "    }\n",
       "\n",
       "    .dataframe tbody tr th {\n",
       "        vertical-align: top;\n",
       "    }\n",
       "\n",
       "    .dataframe thead th {\n",
       "        text-align: right;\n",
       "    }\n",
       "</style>\n",
       "<table border=\"1\" class=\"dataframe\">\n",
       "  <thead>\n",
       "    <tr style=\"text-align: right;\">\n",
       "      <th></th>\n",
       "      <th>temperature(c)</th>\n",
       "      <th>ice cream</th>\n",
       "    </tr>\n",
       "  </thead>\n",
       "  <tbody>\n",
       "    <tr>\n",
       "      <th>0</th>\n",
       "      <td>30.787404</td>\n",
       "      <td>False</td>\n",
       "    </tr>\n",
       "    <tr>\n",
       "      <th>1</th>\n",
       "      <td>25.983409</td>\n",
       "      <td>False</td>\n",
       "    </tr>\n",
       "    <tr>\n",
       "      <th>2</th>\n",
       "      <td>19.722853</td>\n",
       "      <td>False</td>\n",
       "    </tr>\n",
       "    <tr>\n",
       "      <th>3</th>\n",
       "      <td>16.791282</td>\n",
       "      <td>True</td>\n",
       "    </tr>\n",
       "    <tr>\n",
       "      <th>4</th>\n",
       "      <td>16.088031</td>\n",
       "      <td>False</td>\n",
       "    </tr>\n",
       "  </tbody>\n",
       "</table>\n",
       "</div>"
      ],
      "text/plain": [
       "   temperature(c)  ice cream\n",
       "0       30.787404      False\n",
       "1       25.983409      False\n",
       "2       19.722853      False\n",
       "3       16.791282       True\n",
       "4       16.088031      False"
      ]
     },
     "execution_count": 47,
     "metadata": {},
     "output_type": "execute_result"
    }
   ],
   "source": [
    "df.head() # this is an object of the first five headers in the dataset"
   ]
  },
  {
   "cell_type": "code",
   "execution_count": 48,
   "id": "bc44bf53-1f23-4cb9-866b-ed0fdc94a454",
   "metadata": {},
   "outputs": [
    {
     "data": {
      "text/plain": [
       "temperature(c)    100\n",
       "ice cream         100\n",
       "dtype: int64"
      ]
     },
     "execution_count": 48,
     "metadata": {},
     "output_type": "execute_result"
    }
   ],
   "source": [
    "df.count() #this returns the number of observations that we have for each of the columns"
   ]
  },
  {
   "cell_type": "code",
   "execution_count": 49,
   "id": "743ed575-a729-4810-8c1a-468be4faa3bf",
   "metadata": {},
   "outputs": [
    {
     "data": {
      "text/plain": [
       "temperature(c)    19.298219\n",
       "ice cream          0.550000\n",
       "dtype: float64"
      ]
     },
     "execution_count": 49,
     "metadata": {},
     "output_type": "execute_result"
    }
   ],
   "source": [
    "df.mean()  ## notice that the ice cream column is a float point but python has converted the falses to \n",
    "## zero and the trues to one. \n",
    "\n",
    "####0.5 means that half of the labels are false and half of the labels are true"
   ]
  },
  {
   "cell_type": "code",
   "execution_count": null,
   "id": "eda808e6-3ef9-4f7c-b7c0-a6f12cf2e3b3",
   "metadata": {},
   "outputs": [],
   "source": []
  },
  {
   "cell_type": "code",
   "execution_count": null,
   "id": "326508d0-b7d7-49d5-a822-01b2870d4cb1",
   "metadata": {},
   "outputs": [],
   "source": [
    "## Exercise'\n",
    "\n",
    "##Create a pandas dataframe with:\n",
    "\n",
    "##integers going from 0 to 10, their square, and their log"
   ]
  },
  {
   "cell_type": "code",
   "execution_count": null,
   "id": "771c13b0-7642-41e3-a71b-0c823fb3dfd0",
   "metadata": {},
   "outputs": [],
   "source": [
    "### There is no one single correct way to get something done in python or programming in general\n"
   ]
  },
  {
   "cell_type": "code",
   "execution_count": 53,
   "id": "1b2d3887-c421-442b-84e7-c79ebf885291",
   "metadata": {},
   "outputs": [
    {
     "name": "stderr",
     "output_type": "stream",
     "text": [
      "<ipython-input-53-3a812c4c3cfb>:3: RuntimeWarning: divide by zero encountered in log\n",
      "  df = pd.DataFrame({'nums':nums, 'square': nums**2, 'log': np.log(nums)})\n"
     ]
    }
   ],
   "source": [
    "nums = np.array(range(11))\n",
    "\n",
    "df = pd.DataFrame({'nums':nums, 'square': nums**2, 'log': np.log(nums)})\n",
    "\n",
    "### the instruction below is a warning message"
   ]
  },
  {
   "cell_type": "code",
   "execution_count": null,
   "id": "9a305518-8e57-4ffe-9768-305457657299",
   "metadata": {},
   "outputs": [],
   "source": [
    "## warning:we think that you might possibly have done something wrong\n",
    "## error: you did something wrong"
   ]
  },
  {
   "cell_type": "code",
   "execution_count": 54,
   "id": "bf519cd3-283c-4f51-b94b-0ad38bf413dc",
   "metadata": {},
   "outputs": [
    {
     "data": {
      "text/html": [
       "<div>\n",
       "<style scoped>\n",
       "    .dataframe tbody tr th:only-of-type {\n",
       "        vertical-align: middle;\n",
       "    }\n",
       "\n",
       "    .dataframe tbody tr th {\n",
       "        vertical-align: top;\n",
       "    }\n",
       "\n",
       "    .dataframe thead th {\n",
       "        text-align: right;\n",
       "    }\n",
       "</style>\n",
       "<table border=\"1\" class=\"dataframe\">\n",
       "  <thead>\n",
       "    <tr style=\"text-align: right;\">\n",
       "      <th></th>\n",
       "      <th>nums</th>\n",
       "      <th>square</th>\n",
       "      <th>log</th>\n",
       "    </tr>\n",
       "  </thead>\n",
       "  <tbody>\n",
       "    <tr>\n",
       "      <th>0</th>\n",
       "      <td>0</td>\n",
       "      <td>0</td>\n",
       "      <td>-inf</td>\n",
       "    </tr>\n",
       "    <tr>\n",
       "      <th>1</th>\n",
       "      <td>1</td>\n",
       "      <td>1</td>\n",
       "      <td>0.000000</td>\n",
       "    </tr>\n",
       "    <tr>\n",
       "      <th>2</th>\n",
       "      <td>2</td>\n",
       "      <td>4</td>\n",
       "      <td>0.693147</td>\n",
       "    </tr>\n",
       "    <tr>\n",
       "      <th>3</th>\n",
       "      <td>3</td>\n",
       "      <td>9</td>\n",
       "      <td>1.098612</td>\n",
       "    </tr>\n",
       "    <tr>\n",
       "      <th>4</th>\n",
       "      <td>4</td>\n",
       "      <td>16</td>\n",
       "      <td>1.386294</td>\n",
       "    </tr>\n",
       "    <tr>\n",
       "      <th>5</th>\n",
       "      <td>5</td>\n",
       "      <td>25</td>\n",
       "      <td>1.609438</td>\n",
       "    </tr>\n",
       "    <tr>\n",
       "      <th>6</th>\n",
       "      <td>6</td>\n",
       "      <td>36</td>\n",
       "      <td>1.791759</td>\n",
       "    </tr>\n",
       "    <tr>\n",
       "      <th>7</th>\n",
       "      <td>7</td>\n",
       "      <td>49</td>\n",
       "      <td>1.945910</td>\n",
       "    </tr>\n",
       "    <tr>\n",
       "      <th>8</th>\n",
       "      <td>8</td>\n",
       "      <td>64</td>\n",
       "      <td>2.079442</td>\n",
       "    </tr>\n",
       "    <tr>\n",
       "      <th>9</th>\n",
       "      <td>9</td>\n",
       "      <td>81</td>\n",
       "      <td>2.197225</td>\n",
       "    </tr>\n",
       "    <tr>\n",
       "      <th>10</th>\n",
       "      <td>10</td>\n",
       "      <td>100</td>\n",
       "      <td>2.302585</td>\n",
       "    </tr>\n",
       "  </tbody>\n",
       "</table>\n",
       "</div>"
      ],
      "text/plain": [
       "    nums  square       log\n",
       "0      0       0      -inf\n",
       "1      1       1  0.000000\n",
       "2      2       4  0.693147\n",
       "3      3       9  1.098612\n",
       "4      4      16  1.386294\n",
       "5      5      25  1.609438\n",
       "6      6      36  1.791759\n",
       "7      7      49  1.945910\n",
       "8      8      64  2.079442\n",
       "9      9      81  2.197225\n",
       "10    10     100  2.302585"
      ]
     },
     "execution_count": 54,
     "metadata": {},
     "output_type": "execute_result"
    }
   ],
   "source": [
    "df"
   ]
  },
  {
   "cell_type": "code",
   "execution_count": null,
   "id": "be5b0a5a-bf96-429f-9ad7-fdc09f9927e5",
   "metadata": {},
   "outputs": [],
   "source": []
  }
 ],
 "metadata": {
  "kernelspec": {
   "display_name": "Python 3",
   "language": "python",
   "name": "python3"
  },
  "language_info": {
   "codemirror_mode": {
    "name": "ipython",
    "version": 3
   },
   "file_extension": ".py",
   "mimetype": "text/x-python",
   "name": "python",
   "nbconvert_exporter": "python",
   "pygments_lexer": "ipython3",
   "version": "3.8.10"
  }
 },
 "nbformat": 4,
 "nbformat_minor": 5
}
