{
 "cells": [
  {
   "cell_type": "code",
   "execution_count": 1,
   "id": "b07791d5-17fa-46dc-93b5-4373813dfcb1",
   "metadata": {},
   "outputs": [],
   "source": [
    "quotient, remainder = divmod(-13,5)"
   ]
  },
  {
   "cell_type": "code",
   "execution_count": 2,
   "id": "4a99895b-5a54-4eee-b182-279db9198338",
   "metadata": {},
   "outputs": [
    {
     "data": {
      "text/plain": [
       "-3"
      ]
     },
     "execution_count": 2,
     "metadata": {},
     "output_type": "execute_result"
    }
   ],
   "source": [
    "quotient"
   ]
  },
  {
   "cell_type": "code",
   "execution_count": 4,
   "id": "222218c3-e5b3-4813-8266-ceee16d15364",
   "metadata": {},
   "outputs": [
    {
     "data": {
      "text/plain": [
       "-11"
      ]
     },
     "execution_count": 4,
     "metadata": {},
     "output_type": "execute_result"
    }
   ],
   "source": [
    "quotient * 5 + remainder**2"
   ]
  },
  {
   "cell_type": "code",
   "execution_count": 5,
   "id": "615d31b8-4400-40a0-894a-62459ccff847",
   "metadata": {},
   "outputs": [
    {
     "data": {
      "text/plain": [
       "78.3"
      ]
     },
     "execution_count": 5,
     "metadata": {},
     "output_type": "execute_result"
    }
   ],
   "source": [
    "abs(78.3) ##this returns the absolute value"
   ]
  },
  {
   "cell_type": "code",
   "execution_count": 10,
   "id": "516cba67-f3c5-465e-bf2d-c2b1c4a2a0f0",
   "metadata": {},
   "outputs": [
    {
     "data": {
      "text/plain": [
       "5"
      ]
     },
     "execution_count": 10,
     "metadata": {},
     "output_type": "execute_result"
    }
   ],
   "source": [
    "round(abs(-5.2))"
   ]
  },
  {
   "cell_type": "code",
   "execution_count": 12,
   "id": "22d5f479-216f-467a-8eff-cd0d2b86647d",
   "metadata": {},
   "outputs": [
    {
     "data": {
      "text/plain": [
       "2.72"
      ]
     },
     "execution_count": 12,
     "metadata": {},
     "output_type": "execute_result"
    }
   ],
   "source": [
    "round(2.7184528, 2) "
   ]
  },
  {
   "cell_type": "code",
   "execution_count": 13,
   "id": "e7a5ecee-5526-4c87-a0f2-615912ff49fc",
   "metadata": {},
   "outputs": [
    {
     "ename": "TypeError",
     "evalue": "'float' object cannot be interpreted as an integer",
     "output_type": "error",
     "traceback": [
      "\u001b[1;31m---------------------------------------------------------------------------\u001b[0m",
      "\u001b[1;31mTypeError\u001b[0m                                 Traceback (most recent call last)",
      "\u001b[1;32m<ipython-input-13-84b0a8c4eeb5>\u001b[0m in \u001b[0;36m<module>\u001b[1;34m\u001b[0m\n\u001b[1;32m----> 1\u001b[1;33m \u001b[0mround\u001b[0m\u001b[1;33m(\u001b[0m\u001b[1;36m3.73\u001b[0m\u001b[1;33m,\u001b[0m \u001b[1;36m2.1\u001b[0m\u001b[1;33m)\u001b[0m\u001b[1;33m\u001b[0m\u001b[1;33m\u001b[0m\u001b[0m\n\u001b[0m",
      "\u001b[1;31mTypeError\u001b[0m: 'float' object cannot be interpreted as an integer"
     ]
    }
   ],
   "source": [
    "round(3.73, 2.1)"
   ]
  },
  {
   "cell_type": "code",
   "execution_count": 15,
   "id": "32013cac-1931-48f4-866b-360ac9c875ff",
   "metadata": {},
   "outputs": [
    {
     "data": {
      "text/plain": [
       "6"
      ]
     },
     "execution_count": 15,
     "metadata": {},
     "output_type": "execute_result"
    }
   ],
   "source": [
    "a = 3\n",
    "b = 5\n",
    "c = 6\n",
    "\n",
    "max(a,b,c)\n",
    "#max(0, -1, 18.9)"
   ]
  },
  {
   "cell_type": "code",
   "execution_count": 20,
   "id": "175e337f-8cdf-48e4-8745-570d987e83cc",
   "metadata": {},
   "outputs": [
    {
     "data": {
      "text/plain": [
       "[]"
      ]
     },
     "execution_count": 20,
     "metadata": {},
     "output_type": "execute_result"
    }
   ],
   "source": [
    "\n",
    "count = []\n",
    "for i in count:\n",
    "    count += 1\n",
    "count"
   ]
  },
  {
   "cell_type": "code",
   "execution_count": 22,
   "id": "45e0fed1-5e50-4d59-b0fc-65bf302535f6",
   "metadata": {},
   "outputs": [
    {
     "data": {
      "text/plain": [
       "18"
      ]
     },
     "execution_count": 22,
     "metadata": {},
     "output_type": "execute_result"
    }
   ],
   "source": [
    "quote = 'perchance to dream'\n",
    "quote_length = len(quote)\n",
    "quote_length"
   ]
  },
  {
   "cell_type": "code",
   "execution_count": 23,
   "id": "5138caad-8b32-45a0-90bf-e07a9b43f24d",
   "metadata": {},
   "outputs": [
    {
     "data": {
      "text/plain": [
       "13"
      ]
     },
     "execution_count": 23,
     "metadata": {},
     "output_type": "execute_result"
    }
   ],
   "source": [
    "quote.find('dream')"
   ]
  },
  {
   "cell_type": "code",
   "execution_count": 24,
   "id": "1bdb38d9-adae-4cb1-bce9-af8febd26cd1",
   "metadata": {},
   "outputs": [
    {
     "data": {
      "text/plain": [
       "-1"
      ]
     },
     "execution_count": 24,
     "metadata": {},
     "output_type": "execute_result"
    }
   ],
   "source": [
    "quote.find('snooze')"
   ]
  },
  {
   "cell_type": "code",
   "execution_count": 26,
   "id": "d5bb3378-4804-484a-8ec2-40e66662a973",
   "metadata": {},
   "outputs": [
    {
     "data": {
      "text/plain": [
       "16"
      ]
     },
     "execution_count": 26,
     "metadata": {},
     "output_type": "execute_result"
    }
   ],
   "source": [
    "quote.find('a', 6)"
   ]
  },
  {
   "cell_type": "code",
   "execution_count": 27,
   "id": "5a5b93e4-329f-4ada-936b-797254e19d4e",
   "metadata": {},
   "outputs": [
    {
     "data": {
      "text/plain": [
       "'chance'"
      ]
     },
     "execution_count": 27,
     "metadata": {},
     "output_type": "execute_result"
    }
   ],
   "source": [
    "quote[3:9]"
   ]
  },
  {
   "cell_type": "code",
   "execution_count": 28,
   "id": "fd0aaa2f-c80b-40fa-b805-3c8c5715cdfe",
   "metadata": {},
   "outputs": [
    {
     "data": {
      "text/plain": [
       "'perchance to dream'"
      ]
     },
     "execution_count": 28,
     "metadata": {},
     "output_type": "execute_result"
    }
   ],
   "source": [
    "quote[0:len(quote)]"
   ]
  },
  {
   "cell_type": "code",
   "execution_count": 29,
   "id": "e664f244-3a53-4ce4-95a8-be9feb6227c0",
   "metadata": {},
   "outputs": [
    {
     "data": {
      "text/plain": [
       "'perchance to dream'"
      ]
     },
     "execution_count": 29,
     "metadata": {},
     "output_type": "execute_result"
    }
   ],
   "source": [
    "quote[:]"
   ]
  },
  {
   "cell_type": "code",
   "execution_count": 32,
   "id": "b2bd5552-a493-4bdd-8c24-12c8034841f4",
   "metadata": {},
   "outputs": [
    {
     "data": {
      "text/plain": [
       "'sum of a and b is 7'"
      ]
     },
     "execution_count": 32,
     "metadata": {},
     "output_type": "execute_result"
    }
   ],
   "source": [
    "## Python formatting style is called:\n",
    "### Formating string litral\n",
    "\n",
    "\n",
    "\n",
    "a = 2\n",
    "b = 5\n",
    "\n",
    "f\"sum of a and b is {a + b}\""
   ]
  },
  {
   "cell_type": "code",
   "execution_count": 34,
   "id": "6b9c7b1f-f8aa-452c-809b-9773c95c9c3d",
   "metadata": {},
   "outputs": [
    {
     "data": {
      "text/plain": [
       "'Abcd'"
      ]
     },
     "execution_count": 34,
     "metadata": {},
     "output_type": "execute_result"
    }
   ],
   "source": [
    "'''\n",
    "strings are immutable, meaning that you cannot change\n",
    "their structure or contents\n",
    "\n",
    "'''\n",
    "\n",
    "letters = 'abcd'\n",
    "leters = 'A' + letters[1:]\n",
    "leters"
   ]
  },
  {
   "cell_type": "code",
   "execution_count": 35,
   "id": "a27b4d31-a714-42f0-a58f-dbe7b8e41cd0",
   "metadata": {},
   "outputs": [
    {
     "data": {
      "text/plain": [
       "[1999, 2000, 2001, 2002, 2003, 2004, 2005, 2006]"
      ]
     },
     "execution_count": 35,
     "metadata": {},
     "output_type": "execute_result"
    }
   ],
   "source": [
    "years = [1999, 2000, 2001, 2002, 2003]\n",
    "\n",
    "years + [2004, 2005, 2006]"
   ]
  },
  {
   "cell_type": "code",
   "execution_count": 36,
   "id": "1c7a7cb6-3edf-460d-b6d8-269c94cacb33",
   "metadata": {},
   "outputs": [
    {
     "data": {
      "text/plain": [
       "[1999, 2000, 2001, 2002, 2003]"
      ]
     },
     "execution_count": 36,
     "metadata": {},
     "output_type": "execute_result"
    }
   ],
   "source": [
    "years"
   ]
  },
  {
   "cell_type": "code",
   "execution_count": 38,
   "id": "bed69c66-ae41-4e57-9324-75e193eecc92",
   "metadata": {},
   "outputs": [
    {
     "data": {
      "text/plain": [
       "[1999, 2000, 2001, 2002, 2003, 1961, 1980, 1961, 1980]"
      ]
     },
     "execution_count": 38,
     "metadata": {},
     "output_type": "execute_result"
    }
   ],
   "source": [
    "years.extend([1961, 1980])\n",
    "\n",
    "years"
   ]
  },
  {
   "cell_type": "code",
   "execution_count": 39,
   "id": "899a7c68-6b3e-4b43-b3ed-1030fce90930",
   "metadata": {},
   "outputs": [
    {
     "data": {
      "text/plain": [
       "[1999, 2000, 2001, 2002, 2003, 1961, 1980, 1961, 1980]"
      ]
     },
     "execution_count": 39,
     "metadata": {},
     "output_type": "execute_result"
    }
   ],
   "source": [
    "years"
   ]
  },
  {
   "cell_type": "code",
   "execution_count": 40,
   "id": "f6be262f-73c3-44eb-9363-6388d98bd0a3",
   "metadata": {},
   "outputs": [],
   "source": [
    "years.insert(1, 1922)"
   ]
  },
  {
   "cell_type": "code",
   "execution_count": 41,
   "id": "6e337997-41e0-4536-b4db-445486634d44",
   "metadata": {},
   "outputs": [
    {
     "data": {
      "text/plain": [
       "[1999, 1922, 2000, 2001, 2002, 2003, 1961, 1980, 1961, 1980]"
      ]
     },
     "execution_count": 41,
     "metadata": {},
     "output_type": "execute_result"
    }
   ],
   "source": [
    "years"
   ]
  },
  {
   "cell_type": "code",
   "execution_count": 50,
   "id": "c81c34f8-086e-4d14-a251-134bfece151c",
   "metadata": {},
   "outputs": [
    {
     "data": {
      "text/plain": [
       "1980"
      ]
     },
     "execution_count": 50,
     "metadata": {},
     "output_type": "execute_result"
    }
   ],
   "source": [
    "years.pop()"
   ]
  },
  {
   "cell_type": "code",
   "execution_count": 49,
   "id": "e64a69d1-cca0-418e-a50f-b060aa1a4752",
   "metadata": {},
   "outputs": [
    {
     "data": {
      "text/plain": [
       "[1999, 2000, 2001, 2002, 2003, 1961, 1980, 1961, 1980]"
      ]
     },
     "execution_count": 49,
     "metadata": {},
     "output_type": "execute_result"
    }
   ],
   "source": [
    "years"
   ]
  },
  {
   "cell_type": "code",
   "execution_count": 51,
   "id": "ce9ce8d6-1a07-4625-ab96-3e9481096a9b",
   "metadata": {},
   "outputs": [
    {
     "name": "stdout",
     "output_type": "stream",
     "text": [
      "last year's revenue was 300 million euro\n"
     ]
    }
   ],
   "source": [
    "print(f\"last year's revenue was {300} million euro\")"
   ]
  },
  {
   "cell_type": "code",
   "execution_count": 52,
   "id": "6410bcdf-a7ef-44a0-b793-c057af1b2a96",
   "metadata": {},
   "outputs": [
    {
     "name": "stdout",
     "output_type": "stream",
     "text": [
      "see how i broke \n",
      "this line?\n"
     ]
    }
   ],
   "source": [
    "print('see how i broke \\nthis line?')"
   ]
  },
  {
   "cell_type": "code",
   "execution_count": null,
   "id": "ec173cfa-f6d8-4437-9b8f-37956003477e",
   "metadata": {},
   "outputs": [],
   "source": []
  }
 ],
 "metadata": {
  "kernelspec": {
   "display_name": "Python 3",
   "language": "python",
   "name": "python3"
  },
  "language_info": {
   "codemirror_mode": {
    "name": "ipython",
    "version": 3
   },
   "file_extension": ".py",
   "mimetype": "text/x-python",
   "name": "python",
   "nbconvert_exporter": "python",
   "pygments_lexer": "ipython3",
   "version": "3.8.10"
  }
 },
 "nbformat": 4,
 "nbformat_minor": 5
}
