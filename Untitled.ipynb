{
 "cells": [
  {
   "cell_type": "code",
   "execution_count": 1,
   "id": "93f28ad0-1b6c-49a4-beb6-953b9bfecc7a",
   "metadata": {},
   "outputs": [
    {
     "name": "stdout",
     "output_type": "stream",
     "text": [
      "The Zen of Python, by Tim Peters\n",
      "\n",
      "Beautiful is better than ugly.\n",
      "Explicit is better than implicit.\n",
      "Simple is better than complex.\n",
      "Complex is better than complicated.\n",
      "Flat is better than nested.\n",
      "Sparse is better than dense.\n",
      "Readability counts.\n",
      "Special cases aren't special enough to break the rules.\n",
      "Although practicality beats purity.\n",
      "Errors should never pass silently.\n",
      "Unless explicitly silenced.\n",
      "In the face of ambiguity, refuse the temptation to guess.\n",
      "There should be one-- and preferably only one --obvious way to do it.\n",
      "Although that way may not be obvious at first unless you're Dutch.\n",
      "Now is better than never.\n",
      "Although never is often better than *right* now.\n",
      "If the implementation is hard to explain, it's a bad idea.\n",
      "If the implementation is easy to explain, it may be a good idea.\n",
      "Namespaces are one honking great idea -- let's do more of those!\n"
     ]
    }
   ],
   "source": [
    " import this"
   ]
  },
  {
   "cell_type": "code",
   "execution_count": 12,
   "id": "26afea7b-b2c3-4c7e-ba8e-2296ea1fe156",
   "metadata": {},
   "outputs": [
    {
     "name": "stdout",
     "output_type": "stream",
     "text": [
      "Hello,  i wellcome you to 2022\n"
     ]
    }
   ],
   "source": [
    "### String concatenation\n",
    "\n",
    "\n",
    "### There are few ways to concatenate strings and string format\n",
    "\n",
    "internship_team = \"\"\n",
    "\n",
    "print('Hello, '+ internship_team + ' i wellcome you to ' +  str(2022))"
   ]
  },
  {
   "cell_type": "code",
   "execution_count": 13,
   "id": "beff17ba-bcd1-46c7-a214-2159ee1caa7c",
   "metadata": {},
   "outputs": [
    {
     "name": "stdout",
     "output_type": "stream",
     "text": [
      "Hello Welcome to 2022\n"
     ]
    }
   ],
   "source": [
    "## Another cool method\n",
    "\n",
    "  print('Hello{}'.format(internship_team) + ' Welcome to 2022')"
   ]
  },
  {
   "cell_type": "code",
   "execution_count": 15,
   "id": "e73aa475-3199-4eb9-84b2-e7898fad1d46",
   "metadata": {},
   "outputs": [
    {
     "name": "stdout",
     "output_type": "stream",
     "text": [
      "Hello to i welcome you all\n"
     ]
    }
   ],
   "source": [
    "### Another method\n",
    "\n",
    "print(f'Hello to {internship_team}' + \"i welcome you all\")"
   ]
  },
  {
   "cell_type": "code",
   "execution_count": null,
   "id": "ddb342fc-fe12-4e24-9310-bce0cc1aaefa",
   "metadata": {},
   "outputs": [],
   "source": [
    "noun = input('express yourself:')\n",
    "name_the_program = input('what is the name of program you attended:')\n",
    "name_of_the_item = input('which item did you get as sovenir:')\n",
    "destination = input('where do you reside:')\n",
    "name_item = 'Cookies'\n",
    " name_item2 = 'Chocolate'\n",
    "    \n",
    "    note_of_thanks = f'I wish to express my {noun}, to all of you \\\n",
    "                who could make it the {name_the_program}. I am so {adj} believing that you have\\\n",
    "                all returned {destinations}. I have sent {name_item} to John, and {name_item2} to\\\n",
    "                samuel. \n",
    "    \n",
    "    \n",
    "    \n",
    "\n",
    "feedbacks = f'I am most proud'"
   ]
  },
  {
   "cell_type": "code",
   "execution_count": 19,
   "id": "e8637c2e-5be9-4700-8ee8-77bcb89fc693",
   "metadata": {
    "tags": []
   },
   "outputs": [
    {
     "name": "stdin",
     "output_type": "stream",
     "text": [
      "guess a number between 1 and 10 7\n"
     ]
    },
    {
     "name": "stdout",
     "output_type": "stream",
     "text": [
      "Sorry, guess again. too high\n"
     ]
    },
    {
     "name": "stdin",
     "output_type": "stream",
     "text": [
      "guess a number between 1 and 10 9\n"
     ]
    },
    {
     "name": "stdout",
     "output_type": "stream",
     "text": [
      "Sorry, guess again. too high\n"
     ]
    },
    {
     "name": "stdin",
     "output_type": "stream",
     "text": [
      "guess a number between 1 and 10 8\n"
     ]
    },
    {
     "name": "stdout",
     "output_type": "stream",
     "text": [
      "Sorry, guess again. too high\n"
     ]
    },
    {
     "name": "stdin",
     "output_type": "stream",
     "text": [
      "guess a number between 1 and 10 1\n"
     ]
    },
    {
     "name": "stdout",
     "output_type": "stream",
     "text": [
      "Sorry, guess again, too low\n"
     ]
    },
    {
     "name": "stdin",
     "output_type": "stream",
     "text": [
      "guess a number between 1 and 10 3\n"
     ]
    },
    {
     "name": "stdout",
     "output_type": "stream",
     "text": [
      "Sorry, guess again, too low\n"
     ]
    },
    {
     "name": "stdin",
     "output_type": "stream",
     "text": [
      "guess a number between 1 and 10 4\n"
     ]
    },
    {
     "name": "stdout",
     "output_type": "stream",
     "text": [
      "Sorry, guess again, too low\n"
     ]
    },
    {
     "name": "stdin",
     "output_type": "stream",
     "text": [
      "guess a number between 1 and 10 5\n"
     ]
    },
    {
     "name": "stdout",
     "output_type": "stream",
     "text": [
      "hurray, congratulations, you have guessed the number 5correctly\n"
     ]
    }
   ],
   "source": [
    "### Guess the number \n",
    "\n",
    "'''\n",
    "In this exercise the computer asked you to guess a random number\n",
    "then\n",
    "'''\n",
    "import random\n",
    "\n",
    "'''\n",
    "I will make x a parameter so that i can guess a random number \n",
    "'''\n",
    "def guess(x):\n",
    "    random_number = random.randint(1,x)\n",
    "    guess = 0\n",
    "    while guess != random_number: \n",
    "        guess = int(input(f'guess a number between 1 and {x}'))\n",
    "        if guess < random_number:\n",
    "            print('Sorry, guess again, too low')\n",
    "        elif guess > random_number:\n",
    "            print('Sorry, guess again. too high')\n",
    "    \n",
    "    print(f'hurray, congratulations, you have guessed the number {random_number}' + ' correctly')\n",
    "    \n",
    "\n",
    "guess(10)\n",
    "\n"
   ]
  },
  {
   "cell_type": "code",
   "execution_count": null,
   "id": "f4fea0b8-ee07-4d14-89e7-a8ab15260c78",
   "metadata": {},
   "outputs": [],
   "source": []
  },
  {
   "cell_type": "code",
   "execution_count": 23,
   "id": "75dd21f7-3bcc-4afc-a54b-9ff663cd2d9a",
   "metadata": {},
   "outputs": [
    {
     "name": "stdout",
     "output_type": "stream",
     "text": [
      "Requirement already satisfied: pywhatkit in c:\\users\\madua\\.conda\\envs\\qbronze62\\lib\\site-packages (5.3)\n",
      "Requirement already satisfied: wikipedia in c:\\users\\madua\\.conda\\envs\\qbronze62\\lib\\site-packages (from pywhatkit) (1.4.0)\n",
      "Requirement already satisfied: requests in c:\\users\\madua\\appdata\\roaming\\python\\python38\\site-packages (from pywhatkit) (2.26.0)\n",
      "Requirement already satisfied: Pillow in c:\\users\\madua\\appdata\\roaming\\python\\python38\\site-packages (from pywhatkit) (8.3.1)\n",
      "Requirement already satisfied: pyautogui in c:\\users\\madua\\.conda\\envs\\qbronze62\\lib\\site-packages (from pywhatkit) (0.9.53)\n",
      "Requirement already satisfied: pymsgbox in c:\\users\\madua\\.conda\\envs\\qbronze62\\lib\\site-packages (from pyautogui->pywhatkit) (1.0.9)\n",
      "Requirement already satisfied: pyscreeze>=0.1.21 in c:\\users\\madua\\.conda\\envs\\qbronze62\\lib\\site-packages (from pyautogui->pywhatkit) (0.1.28)\n",
      "Requirement already satisfied: pygetwindow>=0.0.5 in c:\\users\\madua\\.conda\\envs\\qbronze62\\lib\\site-packages (from pyautogui->pywhatkit) (0.0.9)\n",
      "Requirement already satisfied: mouseinfo in c:\\users\\madua\\.conda\\envs\\qbronze62\\lib\\site-packages (from pyautogui->pywhatkit) (0.1.3)\n",
      "Requirement already satisfied: PyTweening>=1.0.1 in c:\\users\\madua\\.conda\\envs\\qbronze62\\lib\\site-packages (from pyautogui->pywhatkit) (1.0.4)\n",
      "Requirement already satisfied: pyrect in c:\\users\\madua\\.conda\\envs\\qbronze62\\lib\\site-packages (from pygetwindow>=0.0.5->pyautogui->pywhatkit) (0.1.4)\n",
      "Requirement already satisfied: pyperclip in c:\\users\\madua\\.conda\\envs\\qbronze62\\lib\\site-packages (from mouseinfo->pyautogui->pywhatkit) (1.8.2)\n",
      "Requirement already satisfied: certifi>=2017.4.17 in c:\\users\\madua\\.conda\\envs\\qbronze62\\lib\\site-packages (from requests->pywhatkit) (2021.5.30)\n",
      "Requirement already satisfied: idna<4,>=2.5 in c:\\users\\madua\\appdata\\roaming\\python\\python38\\site-packages (from requests->pywhatkit) (3.2)\n",
      "Requirement already satisfied: urllib3<1.27,>=1.21.1 in c:\\users\\madua\\appdata\\roaming\\python\\python38\\site-packages (from requests->pywhatkit) (1.26.6)\n",
      "Requirement already satisfied: charset-normalizer~=2.0.0 in c:\\users\\madua\\appdata\\roaming\\python\\python38\\site-packages (from requests->pywhatkit) (2.0.3)\n",
      "Requirement already satisfied: beautifulsoup4 in c:\\users\\madua\\.conda\\envs\\qbronze62\\lib\\site-packages (from wikipedia->pywhatkit) (4.10.0)\n",
      "Requirement already satisfied: soupsieve>1.2 in c:\\users\\madua\\.conda\\envs\\qbronze62\\lib\\site-packages (from beautifulsoup4->wikipedia->pywhatkit) (2.3.1)\n"
     ]
    }
   ],
   "source": [
    "### Automate Whatsapp message\n",
    "### Google and install pywhatkit\n",
    "\n",
    " \n",
    "!pip install pywhatkit"
   ]
  },
  {
   "cell_type": "code",
   "execution_count": 27,
   "id": "bfdfdc6c-3947-43d1-8570-a16720663c9e",
   "metadata": {},
   "outputs": [
    {
     "ename": "ModuleNotFoundError",
     "evalue": "No module named 'flask'",
     "output_type": "error",
     "traceback": [
      "\u001b[1;31m---------------------------------------------------------------------------\u001b[0m",
      "\u001b[1;31mModuleNotFoundError\u001b[0m                       Traceback (most recent call last)",
      "\u001b[1;32m<ipython-input-27-59f115f4e07b>\u001b[0m in \u001b[0;36m<module>\u001b[1;34m\u001b[0m\n\u001b[0;32m      1\u001b[0m \u001b[1;31m### Syntax, create an inst\u001b[0m\u001b[1;33m\u001b[0m\u001b[1;33m\u001b[0m\u001b[1;33m\u001b[0m\u001b[0m\n\u001b[0;32m      2\u001b[0m \u001b[1;33m\u001b[0m\u001b[0m\n\u001b[1;32m----> 3\u001b[1;33m \u001b[1;32mimport\u001b[0m \u001b[0mpywhatkit\u001b[0m\u001b[1;33m\u001b[0m\u001b[1;33m\u001b[0m\u001b[0m\n\u001b[0m",
      "\u001b[1;32m~\\.conda\\envs\\QBRONZE62\\lib\\site-packages\\pywhatkit\\__init__.py\u001b[0m in \u001b[0;36m<module>\u001b[1;34m\u001b[0m\n\u001b[0;32m     27\u001b[0m \u001b[1;33m\u001b[0m\u001b[0m\n\u001b[0;32m     28\u001b[0m \u001b[1;32mif\u001b[0m \u001b[0msystem\u001b[0m\u001b[1;33m(\u001b[0m\u001b[1;33m)\u001b[0m\u001b[1;33m.\u001b[0m\u001b[0mlower\u001b[0m\u001b[1;33m(\u001b[0m\u001b[1;33m)\u001b[0m \u001b[1;33m==\u001b[0m \u001b[1;34m\"windows\"\u001b[0m\u001b[1;33m:\u001b[0m\u001b[1;33m\u001b[0m\u001b[1;33m\u001b[0m\u001b[0m\n\u001b[1;32m---> 29\u001b[1;33m     \u001b[1;32mfrom\u001b[0m \u001b[0mpywhatkit\u001b[0m\u001b[1;33m.\u001b[0m\u001b[0mremotekit\u001b[0m \u001b[1;32mimport\u001b[0m \u001b[0mstart_server\u001b[0m\u001b[1;33m\u001b[0m\u001b[1;33m\u001b[0m\u001b[0m\n\u001b[0m",
      "\u001b[1;32m~\\.conda\\envs\\QBRONZE62\\lib\\site-packages\\pywhatkit\\remotekit.py\u001b[0m in \u001b[0;36m<module>\u001b[1;34m\u001b[0m\n\u001b[0;32m      4\u001b[0m \u001b[1;33m\u001b[0m\u001b[0m\n\u001b[0;32m      5\u001b[0m \u001b[1;32mimport\u001b[0m \u001b[0mpyautogui\u001b[0m \u001b[1;32mas\u001b[0m \u001b[0mp\u001b[0m\u001b[1;33m\u001b[0m\u001b[1;33m\u001b[0m\u001b[0m\n\u001b[1;32m----> 6\u001b[1;33m \u001b[1;32mfrom\u001b[0m \u001b[0mflask\u001b[0m \u001b[1;32mimport\u001b[0m \u001b[0mFlask\u001b[0m\u001b[1;33m,\u001b[0m \u001b[0mrequest\u001b[0m\u001b[1;33m\u001b[0m\u001b[1;33m\u001b[0m\u001b[0m\n\u001b[0m\u001b[0;32m      7\u001b[0m \u001b[1;33m\u001b[0m\u001b[0m\n\u001b[0;32m      8\u001b[0m \u001b[0mlog\u001b[0m \u001b[1;33m=\u001b[0m \u001b[0mlogging\u001b[0m\u001b[1;33m.\u001b[0m\u001b[0mgetLogger\u001b[0m\u001b[1;33m(\u001b[0m\u001b[1;34m\"werkzeug\"\u001b[0m\u001b[1;33m)\u001b[0m\u001b[1;33m\u001b[0m\u001b[1;33m\u001b[0m\u001b[0m\n",
      "\u001b[1;31mModuleNotFoundError\u001b[0m: No module named 'flask'"
     ]
    }
   ],
   "source": [
    "### Syntax, create an inst\n",
    "\n",
    "import pywhatkit"
   ]
  },
  {
   "cell_type": "code",
   "execution_count": 10,
   "id": "3076eb06-5150-495d-b6af-d70ffc011345",
   "metadata": {},
   "outputs": [
    {
     "name": "stdin",
     "output_type": "stream",
     "text": [
      "Enter a number: 41\n"
     ]
    },
    {
     "name": "stdout",
     "output_type": "stream",
     "text": [
      "41 is a prime no\n"
     ]
    }
   ],
   "source": [
    "# Print a prime number\n",
    "\n",
    "#num = 407\n",
    "num = int(input('Enter a number:'))\n",
    "\n",
    "if num > 1:\n",
    "    for i in range(2,num): \n",
    "        if num%i ==0:\n",
    "            print(num, 'is not prime no')\n",
    "            print(i, 'times', num//i, 'is',num)\n",
    "            break\n",
    "            \n",
    "    else:\n",
    "        print(num,'is a prime no')\n",
    "        \n",
    "else:\n",
    "        print(num, 'is not a prime no')"
   ]
  },
  {
   "cell_type": "code",
   "execution_count": 2,
   "id": "a91e5370-7373-43aa-99c9-561024cec898",
   "metadata": {},
   "outputs": [
    {
     "name": "stdout",
     "output_type": "stream",
     "text": [
      "range(2, 5)\n"
     ]
    }
   ],
   "source": []
  },
  {
   "cell_type": "code",
   "execution_count": 7,
   "id": "557dc7d0-2980-47dc-abab-20950a2a2c35",
   "metadata": {},
   "outputs": [
    {
     "data": {
      "text/plain": [
       "1"
      ]
     },
     "execution_count": 7,
     "metadata": {},
     "output_type": "execute_result"
    }
   ],
   "source": [
    "5%2"
   ]
  },
  {
   "cell_type": "code",
   "execution_count": 13,
   "id": "e617c10c-9cbb-4e52-8665-9067654bbce8",
   "metadata": {},
   "outputs": [
    {
     "name": "stdin",
     "output_type": "stream",
     "text": [
      "Enter a number: 6\n"
     ]
    },
    {
     "name": "stdout",
     "output_type": "stream",
     "text": [
      "The factorial of 6 is 720\n"
     ]
    }
   ],
   "source": [
    "#program to find the factorial of a number\n",
    "\n",
    "num = 7\n",
    "num = int(input('Enter a number:'))\n",
    "\n",
    "factorial = 1\n",
    "\n",
    "if num < 0:\n",
    "    print('sorry, factorial does not exist for negative numbers')\n",
    "elif num == 0:\n",
    "        print('the factorial of 0 is 1')\n",
    "        \n",
    "else:\n",
    "        for i in range (1, num+1):\n",
    "            factorial = factorial * i\n",
    "        print('The factorial of', num, 'is', factorial)"
   ]
  },
  {
   "cell_type": "code",
   "execution_count": 4,
   "id": "3e5415d9-d12b-46d3-8d84-356501f6f079",
   "metadata": {},
   "outputs": [
    {
     "data": {
      "text/plain": [
       "1"
      ]
     },
     "execution_count": 4,
     "metadata": {},
     "output_type": "execute_result"
    }
   ],
   "source": [
    "#orielly text:\n",
    "len(str(2**2))"
   ]
  },
  {
   "cell_type": "code",
   "execution_count": 5,
   "id": "0e3926d1-d9e3-4703-b694-848fae2766b7",
   "metadata": {},
   "outputs": [
    {
     "data": {
      "text/plain": [
       "9.219544457292887"
      ]
     },
     "execution_count": 5,
     "metadata": {},
     "output_type": "execute_result"
    }
   ],
   "source": [
    "import math\n",
    "math.pi\n",
    "math.sqrt(85)"
   ]
  },
  {
   "cell_type": "code",
   "execution_count": 9,
   "id": "3e4f453e-386e-4966-bde8-5e8a2dd8c160",
   "metadata": {},
   "outputs": [
    {
     "data": {
      "text/plain": [
       "0.8549430698735864"
      ]
     },
     "execution_count": 9,
     "metadata": {},
     "output_type": "execute_result"
    }
   ],
   "source": [
    "import random\n",
    "random.random()"
   ]
  },
  {
   "cell_type": "code",
   "execution_count": 13,
   "id": "aae60938-9d9b-499a-9b17-eda44029e3fa",
   "metadata": {},
   "outputs": [
    {
     "data": {
      "text/plain": [
       "4"
      ]
     },
     "execution_count": 13,
     "metadata": {},
     "output_type": "execute_result"
    }
   ],
   "source": [
    "random.choice([1,2,3,4])"
   ]
  },
  {
   "cell_type": "code",
   "execution_count": 14,
   "id": "a8ceeaec-9840-4c47-ac3b-869e5fbed1d0",
   "metadata": {},
   "outputs": [
    {
     "data": {
      "text/plain": [
       "'pa'"
      ]
     },
     "execution_count": 14,
     "metadata": {},
     "output_type": "execute_result"
    }
   ],
   "source": [
    "#### List slicing\n",
    "##Their general form, X[I:J], means 'give me everything in X from offset 1 up to but not includi \\\n",
    "## J\n",
    "\n",
    "S = 'Spam'\n",
    "S[1:3] #slice of S from offsets 1 through 2 (not 3)"
   ]
  },
  {
   "cell_type": "code",
   "execution_count": 15,
   "id": "d0d2b462-17fc-487f-9145-2224da84472b",
   "metadata": {},
   "outputs": [
    {
     "data": {
      "text/plain": [
       "'pam'"
      ]
     },
     "execution_count": 15,
     "metadata": {},
     "output_type": "execute_result"
    }
   ],
   "source": [
    "S[1:]"
   ]
  },
  {
   "cell_type": "code",
   "execution_count": 16,
   "id": "18984a52-61e7-4bae-8020-dc80320c43e1",
   "metadata": {},
   "outputs": [
    {
     "data": {
      "text/plain": [
       "'Spa'"
      ]
     },
     "execution_count": 16,
     "metadata": {},
     "output_type": "execute_result"
    }
   ],
   "source": [
    "S[0:3]"
   ]
  },
  {
   "cell_type": "code",
   "execution_count": 17,
   "id": "8d7fc5aa-9c10-4aed-ae0a-ed4b5459f45f",
   "metadata": {},
   "outputs": [
    {
     "data": {
      "text/plain": [
       "'Spa'"
      ]
     },
     "execution_count": 17,
     "metadata": {},
     "output_type": "execute_result"
    }
   ],
   "source": [
    "S[:3]"
   ]
  },
  {
   "cell_type": "code",
   "execution_count": 18,
   "id": "de57205e-735b-4d9e-b579-c9e032d988ff",
   "metadata": {},
   "outputs": [
    {
     "data": {
      "text/plain": [
       "'Spa'"
      ]
     },
     "execution_count": 18,
     "metadata": {},
     "output_type": "execute_result"
    }
   ],
   "source": [
    "S[:-1]"
   ]
  },
  {
   "cell_type": "code",
   "execution_count": 19,
   "id": "abf5125e-48ac-4045-9def-d3371f6172d9",
   "metadata": {},
   "outputs": [
    {
     "data": {
      "text/plain": [
       "'Spam'"
      ]
     },
     "execution_count": 19,
     "metadata": {},
     "output_type": "execute_result"
    }
   ],
   "source": [
    "S[:]"
   ]
  },
  {
   "cell_type": "code",
   "execution_count": 25,
   "id": "f2c619b6-6da8-4faf-ac29-568981f71e67",
   "metadata": {},
   "outputs": [
    {
     "data": {
      "text/plain": [
       "'zpam'"
      ]
     },
     "execution_count": 25,
     "metadata": {},
     "output_type": "execute_result"
    }
   ],
   "source": [
    "### Strings are immutable in python- in other words, you can never overwrite the value\n",
    "### of a immutable objects\n",
    "\n",
    "S = 'Spam'\n",
    "#S[0] = 'z'\n",
    "S = 'z' + S[1:]\n",
    "S"
   ]
  },
  {
   "cell_type": "code",
   "execution_count": 26,
   "id": "8c7bc2c5-dbc4-43a4-9cf0-ef929c308e64",
   "metadata": {},
   "outputs": [
    {
     "data": {
      "text/plain": [
       "'spam, eggs, and SPAM!'"
      ]
     },
     "execution_count": 26,
     "metadata": {},
     "output_type": "execute_result"
    }
   ],
   "source": [
    "'{}, eggs, and {}'.format('spam', 'SPAM!')"
   ]
  },
  {
   "cell_type": "code",
   "execution_count": 27,
   "id": "39af3c06-c2c8-47c4-acf3-77cdba65c85f",
   "metadata": {},
   "outputs": [
    {
     "data": {
      "text/plain": [
       "'296,999.26'"
      ]
     },
     "execution_count": 27,
     "metadata": {},
     "output_type": "execute_result"
    }
   ],
   "source": [
    " '{:,.2f}'.format(296999.2567)"
   ]
  },
  {
   "cell_type": "code",
   "execution_count": 33,
   "id": "591a64e0-2b6f-4bcb-a3e8-a920251d0e73",
   "metadata": {},
   "outputs": [
    {
     "data": {
      "text/plain": [
       "'123,456.54'"
      ]
     },
     "execution_count": 33,
     "metadata": {},
     "output_type": "execute_result"
    }
   ],
   "source": [
    "'{:,.2f}'.format(123456.54)"
   ]
  },
  {
   "cell_type": "code",
   "execution_count": 34,
   "id": "bb3063d6-7760-4324-a70e-ca4ff85437f1",
   "metadata": {},
   "outputs": [
    {
     "data": {
      "text/plain": [
       "'spamNI!'"
      ]
     },
     "execution_count": 34,
     "metadata": {},
     "output_type": "execute_result"
    }
   ],
   "source": [
    "S + 'NI!'\n",
    "'spamNI!'\n",
    "\n",
    " "
   ]
  },
  {
   "cell_type": "code",
   "execution_count": 37,
   "id": "1b0cb6ff-0824-4248-9ae8-10c48a5f5034",
   "metadata": {},
   "outputs": [
    {
     "data": {
      "text/plain": [
       "'zpamNI!'"
      ]
     },
     "execution_count": 37,
     "metadata": {},
     "output_type": "execute_result"
    }
   ],
   "source": [
    "S.__add__('NI!')\n"
   ]
  },
  {
   "cell_type": "code",
   "execution_count": null,
   "id": "ad252b8c-9796-45ed-8379-f9f1dcbf545f",
   "metadata": {},
   "outputs": [],
   "source": []
  }
 ],
 "metadata": {
  "kernelspec": {
   "display_name": "Python 3",
   "language": "python",
   "name": "python3"
  },
  "language_info": {
   "codemirror_mode": {
    "name": "ipython",
    "version": 3
   },
   "file_extension": ".py",
   "mimetype": "text/x-python",
   "name": "python",
   "nbconvert_exporter": "python",
   "pygments_lexer": "ipython3",
   "version": "3.8.10"
  }
 },
 "nbformat": 4,
 "nbformat_minor": 5
}
